{
 "cells": [
  {
   "cell_type": "code",
   "execution_count": 1,
   "id": "4c6826d3-c8f7-4094-8e71-9bf1960ec69e",
   "metadata": {},
   "outputs": [
    {
     "name": "stdout",
     "output_type": "stream",
     "text": [
      "Creating RunConfigData instance...\n",
      "validate_device called with: none\n",
      "Type of device: <class 'str'>\n",
      "Returning device: cpu\n",
      "Config created successfully\n",
      "Device in config: cpu\n"
     ]
    }
   ],
   "source": [
    "import multiprocessing as mp\n",
    "from datetime import datetime\n",
    "from pathlib import Path\n",
    "import yaml\n",
    "import pydantic\n",
    "import torch\n",
    "\n",
    "class RunConfigData(pydantic.BaseModel):\n",
    "    device: str | None = pydantic.Field(\n",
    "        default='none',\n",
    "        pattern='^(none|cuda|mps|cpu)$',\n",
    "    )\n",
    "\n",
    "    @pydantic.field_validator('device', mode='before')\n",
    "    def validate_device(cls, device: str | None) -> str | None:\n",
    "        print(f\"validate_device called with: {device}\")\n",
    "        print(f\"Type of device: {type(device)}\")\n",
    "        \n",
    "        if device == 'none':\n",
    "            device = 'cpu'  # Simplified for debugging\n",
    "        \n",
    "        if device == 'cuda' and not torch.cuda.is_available():\n",
    "            raise ValueError('CUDA is not available even though device is set to cuda')\n",
    "        if device == 'mps' and not torch.backends.mps.is_available():\n",
    "            raise ValueError('MPS is not available even though device is set to mps')\n",
    "        if device not in ['cpu', 'cuda', 'mps']:\n",
    "            raise ValueError(f\"Device '{device}' must be one of: cpu, cuda, mps\")\n",
    "        \n",
    "        print(f\"Returning device: {device}\")\n",
    "        return device\n",
    "\n",
    "# Test function\n",
    "def test_run_config():\n",
    "    print(\"Creating RunConfigData instance...\")\n",
    "    try:\n",
    "        config = RunConfigData(device='none')\n",
    "        print(\"Config created successfully\")\n",
    "        print(f\"Device in config: {config.device}\")\n",
    "    except Exception as e:\n",
    "        print(f\"Error creating config: {e}\")\n",
    "\n",
    "# Run the test\n",
    "if __name__ == \"__main__\":\n",
    "    test_run_config()"
   ]
  },
  {
   "cell_type": "code",
   "execution_count": 2,
   "id": "4249cae4-0f0c-41e0-a1c8-856884d28791",
   "metadata": {},
   "outputs": [
    {
     "name": "stdout",
     "output_type": "stream",
     "text": [
      "2.10.6\n"
     ]
    }
   ],
   "source": [
    "import pydantic\n",
    "print(pydantic.__version__)"
   ]
  },
  {
   "cell_type": "code",
   "execution_count": null,
   "id": "83d865f4-d7f2-4e6b-8b7e-5a9be87f6a1e",
   "metadata": {},
   "outputs": [],
   "source": []
  }
 ],
 "metadata": {
  "kernelspec": {
   "display_name": "dist-s1-env",
   "language": "python",
   "name": "dist-s1-env"
  },
  "language_info": {
   "codemirror_mode": {
    "name": "ipython",
    "version": 3
   },
   "file_extension": ".py",
   "mimetype": "text/x-python",
   "name": "python",
   "nbconvert_exporter": "python",
   "pygments_lexer": "ipython3",
   "version": "3.13.2"
  }
 },
 "nbformat": 4,
 "nbformat_minor": 5
}
