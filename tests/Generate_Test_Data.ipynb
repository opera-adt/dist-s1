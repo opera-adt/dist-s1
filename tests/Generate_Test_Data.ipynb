{
 "cells": [
  {
   "cell_type": "markdown",
   "id": "cb6b9e15-f2bf-4c6f-abb1-8853b8513211",
   "metadata": {},
   "source": [
    "This illustrates how to generate a test dataset for DIST-S1."
   ]
  },
  {
   "cell_type": "code",
   "execution_count": 1,
   "id": "7b2eea2f-9750-486c-a92f-711e970beea8",
   "metadata": {},
   "outputs": [
    {
     "name": "stderr",
     "output_type": "stream",
     "text": [
      "/Users/cmarshak/miniforge3/envs/dist-s1-env/lib/python3.13/site-packages/tqdm/auto.py:21: TqdmWarning: IProgress not found. Please update jupyter and ipywidgets. See https://ipywidgets.readthedocs.io/en/stable/user_install.html\n",
      "  from .autonotebook import tqdm as notebook_tqdm\n"
     ]
    }
   ],
   "source": [
    "from pathlib import Path\n",
    "\n",
    "import geopandas as gpd\n",
    "import numpy as np\n",
    "import rasterio\n",
    "from affine import Affine\n",
    "from dem_stitcher.rio_window import get_cropped_profile\n",
    "from dist_s1_enumerator import enumerate_one_dist_s1_product, localize_rtc_s1_ts\n",
    "from rasterio.plot import show\n",
    "from rasterio.transform import xy\n",
    "from tqdm import tqdm"
   ]
  },
  {
   "cell_type": "code",
   "execution_count": 2,
   "id": "af6ef397-456b-40cc-847e-c252eb0c0566",
   "metadata": {},
   "outputs": [],
   "source": [
    "MGRS_TILE_ID = \"10SGD\"\n",
    "TRACK_NUMBER = 137\n",
    "post_date = \"2025-01-02\""
   ]
  },
  {
   "cell_type": "code",
   "execution_count": 3,
   "id": "cdfe28b6-b417-4bde-9b8f-6c08d88e70a8",
   "metadata": {},
   "outputs": [
    {
     "name": "stderr",
     "output_type": "stream",
     "text": [
      "/var/folders/0p/d5x2m4tx5kg1246bplsvyfyh0000gq/T/ipykernel_17653/3182855200.py:1: DeprecationWarning: Parsing dates involving a day of month without a year specified is ambiguious\n",
      "and fails to parse leap day. The default behavior will change in Python 3.15\n",
      "to either always raise an exception or to use a different default year (TBD).\n",
      "To avoid trouble, add a specific year to the input & format.\n",
      "See https://github.com/python/cpython/issues/70647.\n",
      "  df_product = enumerate_one_dist_s1_product(\n",
      "/var/folders/0p/d5x2m4tx5kg1246bplsvyfyh0000gq/T/ipykernel_17653/3182855200.py:1: DeprecationWarning: Parsing dates involving a day of month without a year specified is ambiguious\n",
      "and fails to parse leap day. The default behavior will change in Python 3.15\n",
      "to either always raise an exception or to use a different default year (TBD).\n",
      "To avoid trouble, add a specific year to the input & format.\n",
      "See https://github.com/python/cpython/issues/70647.\n",
      "  df_product = enumerate_one_dist_s1_product(\n"
     ]
    },
    {
     "data": {
      "text/html": [
       "<div>\n",
       "<style scoped>\n",
       "    .dataframe tbody tr th:only-of-type {\n",
       "        vertical-align: middle;\n",
       "    }\n",
       "\n",
       "    .dataframe tbody tr th {\n",
       "        vertical-align: top;\n",
       "    }\n",
       "\n",
       "    .dataframe thead th {\n",
       "        text-align: right;\n",
       "    }\n",
       "</style>\n",
       "<table border=\"1\" class=\"dataframe\">\n",
       "  <thead>\n",
       "    <tr style=\"text-align: right;\">\n",
       "      <th></th>\n",
       "      <th>opera_id</th>\n",
       "      <th>jpl_burst_id</th>\n",
       "      <th>acq_dt</th>\n",
       "      <th>acq_date_for_mgrs_pass</th>\n",
       "      <th>polarizations</th>\n",
       "      <th>track_number</th>\n",
       "      <th>pass_id</th>\n",
       "      <th>url_crosspol</th>\n",
       "      <th>url_copol</th>\n",
       "      <th>geometry</th>\n",
       "      <th>mgrs_tile_id</th>\n",
       "      <th>acq_group_id_within_mgrs_tile</th>\n",
       "      <th>track_token</th>\n",
       "      <th>input_category</th>\n",
       "    </tr>\n",
       "  </thead>\n",
       "  <tbody>\n",
       "    <tr>\n",
       "      <th>0</th>\n",
       "      <td>OPERA_L2_RTC-S1_T137-292318-IW1_20240904T01590...</td>\n",
       "      <td>T137-292318-IW1</td>\n",
       "      <td>2024-09-04 01:59:00+00:00</td>\n",
       "      <td>2024-09-04</td>\n",
       "      <td>VV+VH</td>\n",
       "      <td>137</td>\n",
       "      <td>649</td>\n",
       "      <td>https://datapool.asf.alaska.edu/RTC/OPERA-S1/O...</td>\n",
       "      <td>https://datapool.asf.alaska.edu/RTC/OPERA-S1/O...</td>\n",
       "      <td>POLYGON ((-120.88173 33.8894, -119.86874 34.04...</td>\n",
       "      <td>10SGD</td>\n",
       "      <td>2</td>\n",
       "      <td>137</td>\n",
       "      <td>pre</td>\n",
       "    </tr>\n",
       "    <tr>\n",
       "      <th>1</th>\n",
       "      <td>OPERA_L2_RTC-S1_T137-292318-IW1_20240916T01590...</td>\n",
       "      <td>T137-292318-IW1</td>\n",
       "      <td>2024-09-16 01:59:01+00:00</td>\n",
       "      <td>2024-09-16</td>\n",
       "      <td>VV+VH</td>\n",
       "      <td>137</td>\n",
       "      <td>651</td>\n",
       "      <td>https://datapool.asf.alaska.edu/RTC/OPERA-S1/O...</td>\n",
       "      <td>https://datapool.asf.alaska.edu/RTC/OPERA-S1/O...</td>\n",
       "      <td>POLYGON ((-120.88408 33.88926, -119.87119 34.0...</td>\n",
       "      <td>10SGD</td>\n",
       "      <td>2</td>\n",
       "      <td>137</td>\n",
       "      <td>pre</td>\n",
       "    </tr>\n",
       "    <tr>\n",
       "      <th>2</th>\n",
       "      <td>OPERA_L2_RTC-S1_T137-292318-IW1_20240928T01590...</td>\n",
       "      <td>T137-292318-IW1</td>\n",
       "      <td>2024-09-28 01:59:01+00:00</td>\n",
       "      <td>2024-09-28</td>\n",
       "      <td>VV+VH</td>\n",
       "      <td>137</td>\n",
       "      <td>653</td>\n",
       "      <td>https://datapool.asf.alaska.edu/RTC/OPERA-S1/O...</td>\n",
       "      <td>https://datapool.asf.alaska.edu/RTC/OPERA-S1/O...</td>\n",
       "      <td>POLYGON ((-120.8823 33.8891, -119.86943 34.046...</td>\n",
       "      <td>10SGD</td>\n",
       "      <td>2</td>\n",
       "      <td>137</td>\n",
       "      <td>pre</td>\n",
       "    </tr>\n",
       "    <tr>\n",
       "      <th>3</th>\n",
       "      <td>OPERA_L2_RTC-S1_T137-292318-IW1_20241010T01590...</td>\n",
       "      <td>T137-292318-IW1</td>\n",
       "      <td>2024-10-10 01:59:02+00:00</td>\n",
       "      <td>2024-10-10</td>\n",
       "      <td>VV+VH</td>\n",
       "      <td>137</td>\n",
       "      <td>655</td>\n",
       "      <td>https://datapool.asf.alaska.edu/RTC/OPERA-S1/O...</td>\n",
       "      <td>https://datapool.asf.alaska.edu/RTC/OPERA-S1/O...</td>\n",
       "      <td>POLYGON ((-120.88496 33.88923, -119.87222 34.0...</td>\n",
       "      <td>10SGD</td>\n",
       "      <td>2</td>\n",
       "      <td>137</td>\n",
       "      <td>pre</td>\n",
       "    </tr>\n",
       "    <tr>\n",
       "      <th>4</th>\n",
       "      <td>OPERA_L2_RTC-S1_T137-292318-IW1_20241022T01590...</td>\n",
       "      <td>T137-292318-IW1</td>\n",
       "      <td>2024-10-22 01:59:02+00:00</td>\n",
       "      <td>2024-10-22</td>\n",
       "      <td>VV+VH</td>\n",
       "      <td>137</td>\n",
       "      <td>657</td>\n",
       "      <td>https://datapool.asf.alaska.edu/RTC/OPERA-S1/O...</td>\n",
       "      <td>https://datapool.asf.alaska.edu/RTC/OPERA-S1/O...</td>\n",
       "      <td>POLYGON ((-120.88297 33.88976, -119.87021 34.0...</td>\n",
       "      <td>10SGD</td>\n",
       "      <td>2</td>\n",
       "      <td>137</td>\n",
       "      <td>pre</td>\n",
       "    </tr>\n",
       "  </tbody>\n",
       "</table>\n",
       "</div>"
      ],
      "text/plain": [
       "                                            opera_id     jpl_burst_id  \\\n",
       "0  OPERA_L2_RTC-S1_T137-292318-IW1_20240904T01590...  T137-292318-IW1   \n",
       "1  OPERA_L2_RTC-S1_T137-292318-IW1_20240916T01590...  T137-292318-IW1   \n",
       "2  OPERA_L2_RTC-S1_T137-292318-IW1_20240928T01590...  T137-292318-IW1   \n",
       "3  OPERA_L2_RTC-S1_T137-292318-IW1_20241010T01590...  T137-292318-IW1   \n",
       "4  OPERA_L2_RTC-S1_T137-292318-IW1_20241022T01590...  T137-292318-IW1   \n",
       "\n",
       "                     acq_dt acq_date_for_mgrs_pass polarizations  \\\n",
       "0 2024-09-04 01:59:00+00:00             2024-09-04         VV+VH   \n",
       "1 2024-09-16 01:59:01+00:00             2024-09-16         VV+VH   \n",
       "2 2024-09-28 01:59:01+00:00             2024-09-28         VV+VH   \n",
       "3 2024-10-10 01:59:02+00:00             2024-10-10         VV+VH   \n",
       "4 2024-10-22 01:59:02+00:00             2024-10-22         VV+VH   \n",
       "\n",
       "   track_number  pass_id                                       url_crosspol  \\\n",
       "0           137      649  https://datapool.asf.alaska.edu/RTC/OPERA-S1/O...   \n",
       "1           137      651  https://datapool.asf.alaska.edu/RTC/OPERA-S1/O...   \n",
       "2           137      653  https://datapool.asf.alaska.edu/RTC/OPERA-S1/O...   \n",
       "3           137      655  https://datapool.asf.alaska.edu/RTC/OPERA-S1/O...   \n",
       "4           137      657  https://datapool.asf.alaska.edu/RTC/OPERA-S1/O...   \n",
       "\n",
       "                                           url_copol  \\\n",
       "0  https://datapool.asf.alaska.edu/RTC/OPERA-S1/O...   \n",
       "1  https://datapool.asf.alaska.edu/RTC/OPERA-S1/O...   \n",
       "2  https://datapool.asf.alaska.edu/RTC/OPERA-S1/O...   \n",
       "3  https://datapool.asf.alaska.edu/RTC/OPERA-S1/O...   \n",
       "4  https://datapool.asf.alaska.edu/RTC/OPERA-S1/O...   \n",
       "\n",
       "                                            geometry mgrs_tile_id  \\\n",
       "0  POLYGON ((-120.88173 33.8894, -119.86874 34.04...        10SGD   \n",
       "1  POLYGON ((-120.88408 33.88926, -119.87119 34.0...        10SGD   \n",
       "2  POLYGON ((-120.8823 33.8891, -119.86943 34.046...        10SGD   \n",
       "3  POLYGON ((-120.88496 33.88923, -119.87222 34.0...        10SGD   \n",
       "4  POLYGON ((-120.88297 33.88976, -119.87021 34.0...        10SGD   \n",
       "\n",
       "   acq_group_id_within_mgrs_tile track_token input_category  \n",
       "0                              2         137            pre  \n",
       "1                              2         137            pre  \n",
       "2                              2         137            pre  \n",
       "3                              2         137            pre  \n",
       "4                              2         137            pre  "
      ]
     },
     "execution_count": 3,
     "metadata": {},
     "output_type": "execute_result"
    }
   ],
   "source": [
    "df_product = enumerate_one_dist_s1_product(\n",
    "    MGRS_TILE_ID, track_number=TRACK_NUMBER, post_date=post_date,\n",
    ")\n",
    "df_product.head()"
   ]
  },
  {
   "cell_type": "markdown",
   "id": "6b8f06ba",
   "metadata": {},
   "source": [
    "The library is relies on disk `io` so every relative path has to be precise. We want the data paths:\n",
    "   - to be in `test_data`\n",
    "   - to be consistent with how `dist-s1-enumerator` works so we want to not touch `<MGRS_TILE_ID> / <TRACK_NUMBER>/...`"
   ]
  },
  {
   "cell_type": "code",
   "execution_count": 22,
   "id": "ea2d6b72-d250-41a8-be7f-4e1b43cb8174",
   "metadata": {},
   "outputs": [],
   "source": [
    "out_dir = Path('out')\n",
    "out_dir.mkdir(exist_ok=True, parents=True)"
   ]
  },
  {
   "cell_type": "markdown",
   "id": "b98ffb2f-0a7e-4b8a-b78a-a72315f6798e",
   "metadata": {},
   "source": [
    "# Download products"
   ]
  },
  {
   "cell_type": "code",
   "execution_count": 29,
   "id": "e44ddd2f-f74c-431f-8c74-06e90cdabfb4",
   "metadata": {},
   "outputs": [
    {
     "name": "stderr",
     "output_type": "stream",
     "text": [
      "Downloading RTC-S1 burst data: 100%|█| \n"
     ]
    }
   ],
   "source": [
    "df_product_loc = localize_rtc_s1_ts(df_product, out_dir, max_workers=5)"
   ]
  },
  {
   "cell_type": "markdown",
   "id": "cf548ca3-36d0-4340-82ce-285caae7baf4",
   "metadata": {},
   "source": [
    "# Localize Table"
   ]
  },
  {
   "cell_type": "code",
   "execution_count": 30,
   "id": "7b2cc9c3-9bda-48e6-b23d-238e782db9d9",
   "metadata": {},
   "outputs": [],
   "source": [
    "track_token = df_product_loc.track_token.iloc[0]\n",
    "mgrs_tile_id = df_product_loc.mgrs_tile_id.iloc[0]\n",
    "date_token = df_product_loc.acq_date_for_mgrs_pass.iloc[0]\n",
    "\n",
    "df_product.to_parquet(\n",
    "    out_dir\n",
    "    / f\"{mgrs_tile_id}__{track_token}__{date_token}_dist_s1_inputs.parquet\"\n",
    ")"
   ]
  },
  {
   "cell_type": "markdown",
   "id": "74ab848a-1079-4036-8aa4-f81d9d9ca7b7",
   "metadata": {},
   "source": [
    "# Rewrite Rasters with Smaller Area"
   ]
  },
  {
   "cell_type": "code",
   "execution_count": 31,
   "id": "4591dc52-8ada-4a6d-96f2-6c96e38e910a",
   "metadata": {},
   "outputs": [],
   "source": [
    "sample_loc_path = df_product_loc[\"loc_path_crosspol\"].iloc[0]\n",
    "with rasterio.open(sample_loc_path) as ds:\n",
    "    X = ds.read(1)\n",
    "    p = ds.profile"
   ]
  },
  {
   "cell_type": "code",
   "execution_count": 32,
   "id": "6e9f5590-3090-4ae8-b701-719936cf1ecc",
   "metadata": {},
   "outputs": [
    {
     "data": {
      "image/png": "[encoded data removed]",
      "text/plain": [
       "<Figure size 640x480 with 1 Axes>"
      ]
     },
     "metadata": {},
     "output_type": "display_data"
    },
    {
     "data": {
      "text/plain": [
       "<Axes: >"
      ]
     },
     "execution_count": 32,
     "metadata": {},
     "output_type": "execute_result"
    }
   ],
   "source": [
    "SIZE = 100\n",
    "sy = np.s_[600:600 + SIZE]\n",
    "sx = np.s_[1100:1100 + SIZE]\n",
    "\n",
    "show(X[sy, sx], vmin=0, vmax=0.15)"
   ]
  },
  {
   "cell_type": "markdown",
   "id": "8b7669ba",
   "metadata": {},
   "source": [
    "Again, we are making sure that we put was once in `out` into `test_data/cropped`."
   ]
  },
  {
   "cell_type": "code",
   "execution_count": 72,
   "id": "11e77be6-18ed-43fa-b6d3-6525deb96067",
   "metadata": {},
   "outputs": [],
   "source": [
    "cropped_data_dir = Path('test_data/cropped')\n",
    "cropped_data_dir.mkdir(exist_ok=True, parents=True)"
   ]
  },
  {
   "cell_type": "code",
   "execution_count": 73,
   "id": "94150408-176c-45ee-ad01-883972c94eb6",
   "metadata": {},
   "outputs": [],
   "source": [
    "def crop_and_serialize_data(data_path: str) -> Path:\n",
    "    src_path = Path(data_path)\n",
    "    out_path = cropped_data_dir / src_path.relative_to(out_dir)\n",
    "    out_parent = out_path.parent\n",
    "    out_parent.mkdir(exist_ok=True, parents=True)\n",
    "    with rasterio.open(src_path) as ds:\n",
    "        X = ds.read(1)\n",
    "        p = ds.profile\n",
    "    p_c = get_cropped_profile(p, sx, sy)\n",
    "    with rasterio.open(out_path, \"w\", **p_c) as ds:\n",
    "        ds.write(X[sy, sx], 1)\n",
    "    return str(out_path)"
   ]
  },
  {
   "cell_type": "code",
   "execution_count": 74,
   "id": "5101aa20-eaec-444a-81d6-a4fa4834cd38",
   "metadata": {},
   "outputs": [],
   "source": [
    "new_crosspol_paths = list(map(crop_and_serialize_data, df_product_loc.loc_path_crosspol[:]))\n",
    "new_copol_paths = list(map(crop_and_serialize_data, df_product_loc.loc_path_copol[:]))"
   ]
  },
  {
   "cell_type": "code",
   "execution_count": 75,
   "id": "36534277-b432-4591-b425-f6d1201b0e58",
   "metadata": {},
   "outputs": [],
   "source": [
    "def update_path(data_path: str) -> str:\n",
    "    src_path = Path(data_path)\n",
    "    out_path = cropped_data_dir / src_path.relative_to(out_dir)\n",
    "    if not out_path.exists():\n",
    "        print(out_path)\n",
    "    return str(out_path)"
   ]
  },
  {
   "cell_type": "code",
   "execution_count": 76,
   "id": "8f3e76ef-3227-41d2-bb40-ac333637de92",
   "metadata": {},
   "outputs": [],
   "source": [
    "df_product_loc_small = df_product_loc.copy()\n",
    "df_product_loc_small[\"loc_path_copol\"] = df_product_loc.loc_path_copol.map(update_path)\n",
    "df_product_loc_small[\"loc_path_crosspol\"] = df_product_loc.loc_path_crosspol.map(update_path)\n"
   ]
  },
  {
   "cell_type": "code",
   "execution_count": 77,
   "id": "14aab463-b688-4015-93cb-eac377d7d685",
   "metadata": {},
   "outputs": [],
   "source": [
    "df_product_loc_small.to_parquet(\n",
    "    cropped_data_dir / f\"{mgrs_tile_id}__{track_token}__{date_token}_dist_s1_inputs.parquet\"\n",
    ")"
   ]
  }
 ],
 "metadata": {
  "kernelspec": {
   "display_name": "dist-s1-env",
   "language": "python",
   "name": "dist-s1-env"
  },
  "language_info": {
   "codemirror_mode": {
    "name": "ipython",
    "version": 3
   },
   "file_extension": ".py",
   "mimetype": "text/x-python",
   "name": "python",
   "nbconvert_exporter": "python",
   "pygments_lexer": "ipython3",
   "version": "3.13.1"
  }
 },
 "nbformat": 4,
 "nbformat_minor": 5
}
