{
 "cells": [
  {
   "cell_type": "markdown",
   "id": "ff402f6b-df30-4f99-8742-1881c7e2e6b9",
   "metadata": {},
   "source": [
    "This is a notebook that illustrates how to run the end-to-end (e2e) workflow. Determining suitable parameters for the workflow are for operational considerations are explained in the ops library [`dist-s1-enumerator`](https://github.com/opera-adt/dist-s1-enumerator) - specifically, see this [notebook](https://github.com/opera-adt/dist-s1-enumerator/blob/dev/notebooks/A__Staging_Inputs_for_One_MGRS_Tile.ipynb)."
   ]
  },
  {
   "cell_type": "code",
   "execution_count": 1,
   "id": "91fb3320-c91c-465c-9ac3-926076e413e6",
   "metadata": {},
   "outputs": [],
   "source": [
    "from dist_s1 import run_dist_s1_workflow\n",
    "from pathlib import Path"
   ]
  },
  {
   "cell_type": "code",
   "execution_count": 2,
   "id": "7ce1f145-b58c-4982-b256-6a56b552d4cc",
   "metadata": {},
   "outputs": [],
   "source": [
    "mgrs_tile_id = '10SGD'\n",
    "post_date = '2025-01-02'\n",
    "track_number = 137\n",
    "dst_dir = Path('out')\n",
    "memory_strategy = 'high'"
   ]
  },
  {
   "cell_type": "markdown",
   "id": "b8fe080a-df2c-493d-a65b-f280470c5a31",
   "metadata": {},
   "source": [
    "The downloading may be unstable, but currently the downloading step does not overwrite data so it can easily be rerun if it fails."
   ]
  },
  {
   "cell_type": "code",
   "execution_count": 3,
   "id": "3a0c448d-f360-435d-bc0d-8504753f5940",
   "metadata": {},
   "outputs": [
    {
     "data": {
      "application/vnd.jupyter.widget-view+json": {
       "model_id": "ddc3dd06c3c74ac1a7b001dd2eb6bdeb",
       "version_major": 2,
       "version_minor": 0
      },
      "text/plain": [
       "Downloading RTC-S1 burst data:   0%|                      | 0/390 [00:00<?, ?it/s]"
      ]
     },
     "metadata": {},
     "output_type": "display_data"
    },
    {
     "name": "stderr",
     "output_type": "stream",
     "text": [
      "Despeckling batch: 100%|██████████████████████████| 4/4 [00:00<00:00, 1722.68it/s]\n",
      "/u/aurora-r0/cmarshak/dist-s1/src/dist_s1/data_models/runconfig_model.py:290: FutureWarning: The provided callable <built-in function max> is currently using np.maximum.reduce. In a future version of pandas, the provided callable will be used directly. To keep current behavior pass the string np.maximum.reduce instead.\n",
      "  df_date = df_inputs.groupby('jpl_burst_id')['acq_dt'].apply(max).reset_index(drop=False)\n"
     ]
    },
    {
     "data": {
      "application/vnd.jupyter.widget-view+json": {
       "model_id": "219fb8e3b4c64e2984711f3b4434ea79",
       "version_major": 2,
       "version_minor": 0
      },
      "text/plain": [
       "Param Est. by Burst:   0%|                                 | 0/15 [00:00<?, ?it/s]"
      ]
     },
     "metadata": {},
     "output_type": "display_data"
    },
    {
     "data": {
      "application/vnd.jupyter.widget-view+json": {
       "model_id": "8ce45c1756e940cba67a62ac3a2ed239",
       "version_major": 2,
       "version_minor": 0
      },
      "text/plain": [
       "Lookbacks for burst T137-292318-IW1:   0%|                  | 0/3 [00:00<?, ?it/s]"
      ]
     },
     "metadata": {},
     "output_type": "display_data"
    },
    {
     "data": {
      "application/vnd.jupyter.widget-view+json": {
       "model_id": "6ca298ac15034a1891dd613ccf150aad",
       "version_major": 2,
       "version_minor": 0
      },
      "text/plain": [
       "Chips Traversed:   0%|                                  | 0/38363 [00:00<?, ?it/s]"
      ]
     },
     "metadata": {},
     "output_type": "display_data"
    },
    {
     "data": {
      "application/vnd.jupyter.widget-view+json": {
       "model_id": "9218df49b5d842ffb650514199fabea0",
       "version_major": 2,
       "version_minor": 0
      },
      "text/plain": [
       "Chips Traversed:   0%|                                  | 0/38363 [00:00<?, ?it/s]"
      ]
     },
     "metadata": {},
     "output_type": "display_data"
    },
    {
     "data": {
      "application/vnd.jupyter.widget-view+json": {
       "model_id": "fe415a6a34204ebd9bf19c56d65c1e03",
       "version_major": 2,
       "version_minor": 0
      },
      "text/plain": [
       "Chips Traversed:   0%|                                  | 0/38363 [00:00<?, ?it/s]"
      ]
     },
     "metadata": {},
     "output_type": "display_data"
    },
    {
     "data": {
      "application/vnd.jupyter.widget-view+json": {
       "model_id": "1eaa024dfa0b40de8674402c1022929c",
       "version_major": 2,
       "version_minor": 0
      },
      "text/plain": [
       "Lookbacks for burst T137-292318-IW2:   0%|                  | 0/3 [00:00<?, ?it/s]"
      ]
     },
     "metadata": {},
     "output_type": "display_data"
    },
    {
     "data": {
      "application/vnd.jupyter.widget-view+json": {
       "model_id": "a2c732b56ff64239ad70433170e64601",
       "version_major": 2,
       "version_minor": 0
      },
      "text/plain": [
       "Chips Traversed:   0%|                                  | 0/39361 [00:00<?, ?it/s]"
      ]
     },
     "metadata": {},
     "output_type": "display_data"
    },
    {
     "data": {
      "application/vnd.jupyter.widget-view+json": {
       "model_id": "f6cb308574ce4955a725c83a7e31a07a",
       "version_major": 2,
       "version_minor": 0
      },
      "text/plain": [
       "Chips Traversed:   0%|                                  | 0/39361 [00:00<?, ?it/s]"
      ]
     },
     "metadata": {},
     "output_type": "display_data"
    },
    {
     "data": {
      "application/vnd.jupyter.widget-view+json": {
       "model_id": "be40bc109e0540caa106d104499ca6c7",
       "version_major": 2,
       "version_minor": 0
      },
      "text/plain": [
       "Chips Traversed:   0%|                                  | 0/39361 [00:00<?, ?it/s]"
      ]
     },
     "metadata": {},
     "output_type": "display_data"
    },
    {
     "data": {
      "application/vnd.jupyter.widget-view+json": {
       "model_id": "22647d718c3c4b5ebd669a21da92b8af",
       "version_major": 2,
       "version_minor": 0
      },
      "text/plain": [
       "Lookbacks for burst T137-292319-IW1:   0%|                  | 0/3 [00:00<?, ?it/s]"
      ]
     },
     "metadata": {},
     "output_type": "display_data"
    },
    {
     "data": {
      "application/vnd.jupyter.widget-view+json": {
       "model_id": "bd534ae58b1f4e888f762c879dcc5e71",
       "version_major": 2,
       "version_minor": 0
      },
      "text/plain": [
       "Chips Traversed:   0%|                                  | 0/38378 [00:00<?, ?it/s]"
      ]
     },
     "metadata": {},
     "output_type": "display_data"
    },
    {
     "data": {
      "application/vnd.jupyter.widget-view+json": {
       "model_id": "6e6b581bc09946df9870bca75d0c747d",
       "version_major": 2,
       "version_minor": 0
      },
      "text/plain": [
       "Chips Traversed:   0%|                                  | 0/38378 [00:00<?, ?it/s]"
      ]
     },
     "metadata": {},
     "output_type": "display_data"
    },
    {
     "data": {
      "application/vnd.jupyter.widget-view+json": {
       "model_id": "a7f9ff73744647e797f3ebbd19c050f5",
       "version_major": 2,
       "version_minor": 0
      },
      "text/plain": [
       "Chips Traversed:   0%|                                  | 0/38378 [00:00<?, ?it/s]"
      ]
     },
     "metadata": {},
     "output_type": "display_data"
    },
    {
     "data": {
      "application/vnd.jupyter.widget-view+json": {
       "model_id": "838bb691dcdf47fdba60c9fef60bbd99",
       "version_major": 2,
       "version_minor": 0
      },
      "text/plain": [
       "Lookbacks for burst T137-292319-IW2:   0%|                  | 0/3 [00:00<?, ?it/s]"
      ]
     },
     "metadata": {},
     "output_type": "display_data"
    },
    {
     "data": {
      "application/vnd.jupyter.widget-view+json": {
       "model_id": "9cf0466bddd9465ba89c77d97122b3e7",
       "version_major": 2,
       "version_minor": 0
      },
      "text/plain": [
       "Chips Traversed:   0%|                                  | 0/39285 [00:00<?, ?it/s]"
      ]
     },
     "metadata": {},
     "output_type": "display_data"
    },
    {
     "data": {
      "application/vnd.jupyter.widget-view+json": {
       "model_id": "6f3883f386454eb3a7e5fe189026c6af",
       "version_major": 2,
       "version_minor": 0
      },
      "text/plain": [
       "Chips Traversed:   0%|                                  | 0/39285 [00:00<?, ?it/s]"
      ]
     },
     "metadata": {},
     "output_type": "display_data"
    },
    {
     "data": {
      "application/vnd.jupyter.widget-view+json": {
       "model_id": "6a671da0e97f4b9982fca2bab4b68df2",
       "version_major": 2,
       "version_minor": 0
      },
      "text/plain": [
       "Chips Traversed:   0%|                                  | 0/39285 [00:00<?, ?it/s]"
      ]
     },
     "metadata": {},
     "output_type": "display_data"
    },
    {
     "data": {
      "application/vnd.jupyter.widget-view+json": {
       "model_id": "057aebaf3c79435f9c703c8101e986a1",
       "version_major": 2,
       "version_minor": 0
      },
      "text/plain": [
       "Lookbacks for burst T137-292320-IW1:   0%|                  | 0/3 [00:00<?, ?it/s]"
      ]
     },
     "metadata": {},
     "output_type": "display_data"
    },
    {
     "data": {
      "application/vnd.jupyter.widget-view+json": {
       "model_id": "1ae111ab67314c7386da08d094964ba9",
       "version_major": 2,
       "version_minor": 0
      },
      "text/plain": [
       "Chips Traversed:   0%|                                  | 0/38326 [00:00<?, ?it/s]"
      ]
     },
     "metadata": {},
     "output_type": "display_data"
    },
    {
     "data": {
      "application/vnd.jupyter.widget-view+json": {
       "model_id": "8475f281a8744f3bbd8681e8bcfb6596",
       "version_major": 2,
       "version_minor": 0
      },
      "text/plain": [
       "Chips Traversed:   0%|                                  | 0/38326 [00:00<?, ?it/s]"
      ]
     },
     "metadata": {},
     "output_type": "display_data"
    },
    {
     "data": {
      "application/vnd.jupyter.widget-view+json": {
       "model_id": "b4b9bb8ce8da473a8d6e6b4f242be858",
       "version_major": 2,
       "version_minor": 0
      },
      "text/plain": [
       "Chips Traversed:   0%|                                  | 0/38326 [00:00<?, ?it/s]"
      ]
     },
     "metadata": {},
     "output_type": "display_data"
    },
    {
     "data": {
      "application/vnd.jupyter.widget-view+json": {
       "model_id": "ff2e511a074a450890c39d158149e6d4",
       "version_major": 2,
       "version_minor": 0
      },
      "text/plain": [
       "Lookbacks for burst T137-292320-IW2:   0%|                  | 0/3 [00:00<?, ?it/s]"
      ]
     },
     "metadata": {},
     "output_type": "display_data"
    },
    {
     "data": {
      "application/vnd.jupyter.widget-view+json": {
       "model_id": "63edf2748a744942b763869ca3010fef",
       "version_major": 2,
       "version_minor": 0
      },
      "text/plain": [
       "Chips Traversed:   0%|                                  | 0/39254 [00:00<?, ?it/s]"
      ]
     },
     "metadata": {},
     "output_type": "display_data"
    },
    {
     "data": {
      "application/vnd.jupyter.widget-view+json": {
       "model_id": "79839f33093349eb93ab038f899a68a6",
       "version_major": 2,
       "version_minor": 0
      },
      "text/plain": [
       "Chips Traversed:   0%|                                  | 0/39254 [00:00<?, ?it/s]"
      ]
     },
     "metadata": {},
     "output_type": "display_data"
    },
    {
     "data": {
      "application/vnd.jupyter.widget-view+json": {
       "model_id": "91772904b78c460aad03b61724a93dec",
       "version_major": 2,
       "version_minor": 0
      },
      "text/plain": [
       "Chips Traversed:   0%|                                  | 0/39254 [00:00<?, ?it/s]"
      ]
     },
     "metadata": {},
     "output_type": "display_data"
    },
    {
     "data": {
      "application/vnd.jupyter.widget-view+json": {
       "model_id": "73851432f62c47e3872ea651f0d8a8ef",
       "version_major": 2,
       "version_minor": 0
      },
      "text/plain": [
       "Lookbacks for burst T137-292321-IW1:   0%|                  | 0/3 [00:00<?, ?it/s]"
      ]
     },
     "metadata": {},
     "output_type": "display_data"
    },
    {
     "data": {
      "application/vnd.jupyter.widget-view+json": {
       "model_id": "0abd6670095f4f97a8aa66bbc4655e2e",
       "version_major": 2,
       "version_minor": 0
      },
      "text/plain": [
       "Chips Traversed:   0%|                                  | 0/38326 [00:00<?, ?it/s]"
      ]
     },
     "metadata": {},
     "output_type": "display_data"
    },
    {
     "data": {
      "application/vnd.jupyter.widget-view+json": {
       "model_id": "1e904fbeb42a42239f4f1ddfd57d6694",
       "version_major": 2,
       "version_minor": 0
      },
      "text/plain": [
       "Chips Traversed:   0%|                                  | 0/38326 [00:00<?, ?it/s]"
      ]
     },
     "metadata": {},
     "output_type": "display_data"
    },
    {
     "data": {
      "application/vnd.jupyter.widget-view+json": {
       "model_id": "0385e4d4c0e14d43a6e3f5086d5f43b4",
       "version_major": 2,
       "version_minor": 0
      },
      "text/plain": [
       "Chips Traversed:   0%|                                  | 0/38326 [00:00<?, ?it/s]"
      ]
     },
     "metadata": {},
     "output_type": "display_data"
    },
    {
     "data": {
      "application/vnd.jupyter.widget-view+json": {
       "model_id": "ea63d1ec71b041ab9d0c158612f997d5",
       "version_major": 2,
       "version_minor": 0
      },
      "text/plain": [
       "Lookbacks for burst T137-292321-IW2:   0%|                  | 0/3 [00:00<?, ?it/s]"
      ]
     },
     "metadata": {},
     "output_type": "display_data"
    },
    {
     "data": {
      "application/vnd.jupyter.widget-view+json": {
       "model_id": "75bf40568c1e423cba7ca7609f4e9355",
       "version_major": 2,
       "version_minor": 0
      },
      "text/plain": [
       "Chips Traversed:   0%|                                  | 0/39201 [00:00<?, ?it/s]"
      ]
     },
     "metadata": {},
     "output_type": "display_data"
    },
    {
     "data": {
      "application/vnd.jupyter.widget-view+json": {
       "model_id": "b051f2378c874e5b827d6a6edb0c6ebc",
       "version_major": 2,
       "version_minor": 0
      },
      "text/plain": [
       "Chips Traversed:   0%|                                  | 0/39201 [00:00<?, ?it/s]"
      ]
     },
     "metadata": {},
     "output_type": "display_data"
    },
    {
     "data": {
      "application/vnd.jupyter.widget-view+json": {
       "model_id": "fc86e1df1cb14cdf971c8950563f3882",
       "version_major": 2,
       "version_minor": 0
      },
      "text/plain": [
       "Chips Traversed:   0%|                                  | 0/39201 [00:00<?, ?it/s]"
      ]
     },
     "metadata": {},
     "output_type": "display_data"
    },
    {
     "data": {
      "application/vnd.jupyter.widget-view+json": {
       "model_id": "5c6255f33ba64ef18c3126b5c0e03406",
       "version_major": 2,
       "version_minor": 0
      },
      "text/plain": [
       "Lookbacks for burst T137-292322-IW1:   0%|                  | 0/3 [00:00<?, ?it/s]"
      ]
     },
     "metadata": {},
     "output_type": "display_data"
    },
    {
     "data": {
      "application/vnd.jupyter.widget-view+json": {
       "model_id": "a4fc8123c5f34e749c84002ab6005018",
       "version_major": 2,
       "version_minor": 0
      },
      "text/plain": [
       "Chips Traversed:   0%|                                  | 0/38275 [00:00<?, ?it/s]"
      ]
     },
     "metadata": {},
     "output_type": "display_data"
    },
    {
     "data": {
      "application/vnd.jupyter.widget-view+json": {
       "model_id": "8425992c23144f3cb6bc2af09403586a",
       "version_major": 2,
       "version_minor": 0
      },
      "text/plain": [
       "Chips Traversed:   0%|                                  | 0/38275 [00:00<?, ?it/s]"
      ]
     },
     "metadata": {},
     "output_type": "display_data"
    },
    {
     "data": {
      "application/vnd.jupyter.widget-view+json": {
       "model_id": "21bd1263d333459098f6e1c8bea7896d",
       "version_major": 2,
       "version_minor": 0
      },
      "text/plain": [
       "Chips Traversed:   0%|                                  | 0/38275 [00:00<?, ?it/s]"
      ]
     },
     "metadata": {},
     "output_type": "display_data"
    },
    {
     "data": {
      "application/vnd.jupyter.widget-view+json": {
       "model_id": "499d0ec9446340ab810b2b4fcca483e4",
       "version_major": 2,
       "version_minor": 0
      },
      "text/plain": [
       "Lookbacks for burst T137-292322-IW2:   0%|                  | 0/3 [00:00<?, ?it/s]"
      ]
     },
     "metadata": {},
     "output_type": "display_data"
    },
    {
     "data": {
      "application/vnd.jupyter.widget-view+json": {
       "model_id": "83cbeacf70f44b7a95da18b29c2dc8b5",
       "version_major": 2,
       "version_minor": 0
      },
      "text/plain": [
       "Chips Traversed:   0%|                                  | 0/39147 [00:00<?, ?it/s]"
      ]
     },
     "metadata": {},
     "output_type": "display_data"
    },
    {
     "data": {
      "application/vnd.jupyter.widget-view+json": {
       "model_id": "7c6e7dd37e8f45e3be290fab87627aab",
       "version_major": 2,
       "version_minor": 0
      },
      "text/plain": [
       "Chips Traversed:   0%|                                  | 0/39147 [00:00<?, ?it/s]"
      ]
     },
     "metadata": {},
     "output_type": "display_data"
    },
    {
     "data": {
      "application/vnd.jupyter.widget-view+json": {
       "model_id": "6e406f7114b44b548747f39326799e65",
       "version_major": 2,
       "version_minor": 0
      },
      "text/plain": [
       "Chips Traversed:   0%|                                  | 0/39147 [00:00<?, ?it/s]"
      ]
     },
     "metadata": {},
     "output_type": "display_data"
    },
    {
     "data": {
      "application/vnd.jupyter.widget-view+json": {
       "model_id": "5a1aef7086f246c29423deadd16e9964",
       "version_major": 2,
       "version_minor": 0
      },
      "text/plain": [
       "Lookbacks for burst T137-292323-IW1:   0%|                  | 0/3 [00:00<?, ?it/s]"
      ]
     },
     "metadata": {},
     "output_type": "display_data"
    },
    {
     "data": {
      "application/vnd.jupyter.widget-view+json": {
       "model_id": "383efc2cf00640c28e0821da713b7308",
       "version_major": 2,
       "version_minor": 0
      },
      "text/plain": [
       "Chips Traversed:   0%|                                  | 0/38224 [00:00<?, ?it/s]"
      ]
     },
     "metadata": {},
     "output_type": "display_data"
    },
    {
     "data": {
      "application/vnd.jupyter.widget-view+json": {
       "model_id": "fa48ec538dd24fc2874c0f381b8c2b9e",
       "version_major": 2,
       "version_minor": 0
      },
      "text/plain": [
       "Chips Traversed:   0%|                                  | 0/38224 [00:00<?, ?it/s]"
      ]
     },
     "metadata": {},
     "output_type": "display_data"
    },
    {
     "data": {
      "application/vnd.jupyter.widget-view+json": {
       "model_id": "0d70e850b7a64325bc3567e5a86e3222",
       "version_major": 2,
       "version_minor": 0
      },
      "text/plain": [
       "Chips Traversed:   0%|                                  | 0/38224 [00:00<?, ?it/s]"
      ]
     },
     "metadata": {},
     "output_type": "display_data"
    },
    {
     "data": {
      "application/vnd.jupyter.widget-view+json": {
       "model_id": "50d58a52d285484db324e1eee7271cd6",
       "version_major": 2,
       "version_minor": 0
      },
      "text/plain": [
       "Lookbacks for burst T137-292323-IW2:   0%|                  | 0/3 [00:00<?, ?it/s]"
      ]
     },
     "metadata": {},
     "output_type": "display_data"
    },
    {
     "data": {
      "application/vnd.jupyter.widget-view+json": {
       "model_id": "8f58f307ce6944249269909444620cd3",
       "version_major": 2,
       "version_minor": 0
      },
      "text/plain": [
       "Chips Traversed:   0%|                                  | 0/39147 [00:00<?, ?it/s]"
      ]
     },
     "metadata": {},
     "output_type": "display_data"
    },
    {
     "data": {
      "application/vnd.jupyter.widget-view+json": {
       "model_id": "7af2a64a83f54d7ea8dec4ffd88f5c21",
       "version_major": 2,
       "version_minor": 0
      },
      "text/plain": [
       "Chips Traversed:   0%|                                  | 0/39147 [00:00<?, ?it/s]"
      ]
     },
     "metadata": {},
     "output_type": "display_data"
    },
    {
     "data": {
      "application/vnd.jupyter.widget-view+json": {
       "model_id": "e4ec7fcfbd9041f687512e6e7e96129f",
       "version_major": 2,
       "version_minor": 0
      },
      "text/plain": [
       "Chips Traversed:   0%|                                  | 0/39147 [00:00<?, ?it/s]"
      ]
     },
     "metadata": {},
     "output_type": "display_data"
    },
    {
     "data": {
      "application/vnd.jupyter.widget-view+json": {
       "model_id": "6113e9c405d640e4a4efdac313c7bec8",
       "version_major": 2,
       "version_minor": 0
      },
      "text/plain": [
       "Lookbacks for burst T137-292324-IW1:   0%|                  | 0/3 [00:00<?, ?it/s]"
      ]
     },
     "metadata": {},
     "output_type": "display_data"
    },
    {
     "data": {
      "application/vnd.jupyter.widget-view+json": {
       "model_id": "edf808b815f942e4b36e076a0e44b182",
       "version_major": 2,
       "version_minor": 0
      },
      "text/plain": [
       "Chips Traversed:   0%|                                  | 0/38224 [00:00<?, ?it/s]"
      ]
     },
     "metadata": {},
     "output_type": "display_data"
    },
    {
     "data": {
      "application/vnd.jupyter.widget-view+json": {
       "model_id": "8c495878cfdb40c6a32dac5f1538d0d3",
       "version_major": 2,
       "version_minor": 0
      },
      "text/plain": [
       "Chips Traversed:   0%|                                  | 0/38224 [00:00<?, ?it/s]"
      ]
     },
     "metadata": {},
     "output_type": "display_data"
    },
    {
     "data": {
      "application/vnd.jupyter.widget-view+json": {
       "model_id": "55d22d06ca714c7e93fea0fb8641b18a",
       "version_major": 2,
       "version_minor": 0
      },
      "text/plain": [
       "Chips Traversed:   0%|                                  | 0/38224 [00:00<?, ?it/s]"
      ]
     },
     "metadata": {},
     "output_type": "display_data"
    },
    {
     "data": {
      "application/vnd.jupyter.widget-view+json": {
       "model_id": "30881e3279e346c795f123a1a03f5154",
       "version_major": 2,
       "version_minor": 0
      },
      "text/plain": [
       "Lookbacks for burst T137-292324-IW2:   0%|                  | 0/3 [00:00<?, ?it/s]"
      ]
     },
     "metadata": {},
     "output_type": "display_data"
    },
    {
     "data": {
      "application/vnd.jupyter.widget-view+json": {
       "model_id": "d46eff2378d04ee88edabc161ed0e84b",
       "version_major": 2,
       "version_minor": 0
      },
      "text/plain": [
       "Chips Traversed:   0%|                                  | 0/39094 [00:00<?, ?it/s]"
      ]
     },
     "metadata": {},
     "output_type": "display_data"
    },
    {
     "data": {
      "application/vnd.jupyter.widget-view+json": {
       "model_id": "ed14a0b9034b4df599afa7ef491e89b0",
       "version_major": 2,
       "version_minor": 0
      },
      "text/plain": [
       "Chips Traversed:   0%|                                  | 0/39094 [00:00<?, ?it/s]"
      ]
     },
     "metadata": {},
     "output_type": "display_data"
    },
    {
     "data": {
      "application/vnd.jupyter.widget-view+json": {
       "model_id": "544cf12f243e4abfbd6b541a42e4e35d",
       "version_major": 2,
       "version_minor": 0
      },
      "text/plain": [
       "Chips Traversed:   0%|                                  | 0/39094 [00:00<?, ?it/s]"
      ]
     },
     "metadata": {},
     "output_type": "display_data"
    },
    {
     "data": {
      "application/vnd.jupyter.widget-view+json": {
       "model_id": "5d04e43e04a049b79caf9ec345c8da51",
       "version_major": 2,
       "version_minor": 0
      },
      "text/plain": [
       "Lookbacks for burst T137-292325-IW1:   0%|                  | 0/3 [00:00<?, ?it/s]"
      ]
     },
     "metadata": {},
     "output_type": "display_data"
    },
    {
     "data": {
      "application/vnd.jupyter.widget-view+json": {
       "model_id": "69fb0667faea471a9dcbcce851b618c9",
       "version_major": 2,
       "version_minor": 0
      },
      "text/plain": [
       "Chips Traversed:   0%|                                  | 0/38195 [00:00<?, ?it/s]"
      ]
     },
     "metadata": {},
     "output_type": "display_data"
    },
    {
     "data": {
      "application/vnd.jupyter.widget-view+json": {
       "model_id": "831a88c28ee94e2f8febc9681995799f",
       "version_major": 2,
       "version_minor": 0
      },
      "text/plain": [
       "Chips Traversed:   0%|                                  | 0/38195 [00:00<?, ?it/s]"
      ]
     },
     "metadata": {},
     "output_type": "display_data"
    },
    {
     "data": {
      "application/vnd.jupyter.widget-view+json": {
       "model_id": "dfbf97290e25421d936739bb30238d01",
       "version_major": 2,
       "version_minor": 0
      },
      "text/plain": [
       "Chips Traversed:   0%|                                  | 0/38195 [00:00<?, ?it/s]"
      ]
     },
     "metadata": {},
     "output_type": "display_data"
    },
    {
     "data": {
      "application/vnd.jupyter.widget-view+json": {
       "model_id": "2c96f73134ba448e850fcbfde03203b2",
       "version_major": 2,
       "version_minor": 0
      },
      "text/plain": [
       "Burst disturbance:   0%|          | 0/15 [00:00<?, ?it/s]"
      ]
     },
     "metadata": {},
     "output_type": "display_data"
    },
    {
     "data": {
      "application/vnd.jupyter.widget-view+json": {
       "model_id": "272d0c98c0504ed9adf9e833db73a2b8",
       "version_major": 2,
       "version_minor": 0
      },
      "text/plain": [
       "Lookbacks:   0%|          | 0/3 [00:00<?, ?it/s]"
      ]
     },
     "metadata": {},
     "output_type": "display_data"
    },
    {
     "data": {
      "application/vnd.jupyter.widget-view+json": {
       "model_id": "d99fe0eb10da486d82580c4c03d68175",
       "version_major": 2,
       "version_minor": 0
      },
      "text/plain": [
       "Lookbacks:   0%|          | 0/3 [00:00<?, ?it/s]"
      ]
     },
     "metadata": {},
     "output_type": "display_data"
    },
    {
     "data": {
      "application/vnd.jupyter.widget-view+json": {
       "model_id": "28e114e5b0014ab99d094710aa3e5695",
       "version_major": 2,
       "version_minor": 0
      },
      "text/plain": [
       "Lookbacks:   0%|          | 0/3 [00:00<?, ?it/s]"
      ]
     },
     "metadata": {},
     "output_type": "display_data"
    },
    {
     "data": {
      "application/vnd.jupyter.widget-view+json": {
       "model_id": "aa39e6b30115424eaf86385dd910984b",
       "version_major": 2,
       "version_minor": 0
      },
      "text/plain": [
       "Lookbacks:   0%|          | 0/3 [00:00<?, ?it/s]"
      ]
     },
     "metadata": {},
     "output_type": "display_data"
    },
    {
     "data": {
      "application/vnd.jupyter.widget-view+json": {
       "model_id": "d0bfa6f45bbf426ba0f5e90ca33915a0",
       "version_major": 2,
       "version_minor": 0
      },
      "text/plain": [
       "Lookbacks:   0%|          | 0/3 [00:00<?, ?it/s]"
      ]
     },
     "metadata": {},
     "output_type": "display_data"
    },
    {
     "data": {
      "application/vnd.jupyter.widget-view+json": {
       "model_id": "90f751146ce7495f97e58dae72331a05",
       "version_major": 2,
       "version_minor": 0
      },
      "text/plain": [
       "Lookbacks:   0%|          | 0/3 [00:00<?, ?it/s]"
      ]
     },
     "metadata": {},
     "output_type": "display_data"
    },
    {
     "data": {
      "application/vnd.jupyter.widget-view+json": {
       "model_id": "efd424f0ab834fd3a039898cf30112d9",
       "version_major": 2,
       "version_minor": 0
      },
      "text/plain": [
       "Lookbacks:   0%|          | 0/3 [00:00<?, ?it/s]"
      ]
     },
     "metadata": {},
     "output_type": "display_data"
    },
    {
     "data": {
      "application/vnd.jupyter.widget-view+json": {
       "model_id": "4b42d291b02943939f1794bffc8b6d5d",
       "version_major": 2,
       "version_minor": 0
      },
      "text/plain": [
       "Lookbacks:   0%|          | 0/3 [00:00<?, ?it/s]"
      ]
     },
     "metadata": {},
     "output_type": "display_data"
    },
    {
     "data": {
      "application/vnd.jupyter.widget-view+json": {
       "model_id": "4ab20535207f40c69dd7b975a3ce8f78",
       "version_major": 2,
       "version_minor": 0
      },
      "text/plain": [
       "Lookbacks:   0%|          | 0/3 [00:00<?, ?it/s]"
      ]
     },
     "metadata": {},
     "output_type": "display_data"
    },
    {
     "data": {
      "application/vnd.jupyter.widget-view+json": {
       "model_id": "96c503d16e3c4a44836b48b31b95acf3",
       "version_major": 2,
       "version_minor": 0
      },
      "text/plain": [
       "Lookbacks:   0%|          | 0/3 [00:00<?, ?it/s]"
      ]
     },
     "metadata": {},
     "output_type": "display_data"
    },
    {
     "data": {
      "application/vnd.jupyter.widget-view+json": {
       "model_id": "e1cfc784c6f0497b9dde8d4c8d387759",
       "version_major": 2,
       "version_minor": 0
      },
      "text/plain": [
       "Lookbacks:   0%|          | 0/3 [00:00<?, ?it/s]"
      ]
     },
     "metadata": {},
     "output_type": "display_data"
    },
    {
     "data": {
      "application/vnd.jupyter.widget-view+json": {
       "model_id": "88ae34437aec4e608ab0dacfeac2a706",
       "version_major": 2,
       "version_minor": 0
      },
      "text/plain": [
       "Lookbacks:   0%|          | 0/3 [00:00<?, ?it/s]"
      ]
     },
     "metadata": {},
     "output_type": "display_data"
    },
    {
     "data": {
      "application/vnd.jupyter.widget-view+json": {
       "model_id": "766ed5143c76403bb506abd1563a72c2",
       "version_major": 2,
       "version_minor": 0
      },
      "text/plain": [
       "Lookbacks:   0%|          | 0/3 [00:00<?, ?it/s]"
      ]
     },
     "metadata": {},
     "output_type": "display_data"
    },
    {
     "data": {
      "application/vnd.jupyter.widget-view+json": {
       "model_id": "85c9973ffcf84896be53eada90b71d3e",
       "version_major": 2,
       "version_minor": 0
      },
      "text/plain": [
       "Lookbacks:   0%|          | 0/3 [00:00<?, ?it/s]"
      ]
     },
     "metadata": {},
     "output_type": "display_data"
    },
    {
     "data": {
      "application/vnd.jupyter.widget-view+json": {
       "model_id": "1d7bf5f75cff4456846e4d4dfdf0ccac",
       "version_major": 2,
       "version_minor": 0
      },
      "text/plain": [
       "Lookbacks:   0%|          | 0/3 [00:00<?, ?it/s]"
      ]
     },
     "metadata": {},
     "output_type": "display_data"
    }
   ],
   "source": [
    "_ = run_dist_s1_workflow(mgrs_tile_id, post_date, track_number, post_date_buffer_days = 1, dst_dir=dst_dir, memory_strategy=memory_strategy)"
   ]
  }
 ],
 "metadata": {
  "kernelspec": {
   "display_name": "dist-s1-env",
   "language": "python",
   "name": "dist-s1-env"
  },
  "language_info": {
   "codemirror_mode": {
    "name": "ipython",
    "version": 3
   },
   "file_extension": ".py",
   "mimetype": "text/x-python",
   "name": "python",
   "nbconvert_exporter": "python",
   "pygments_lexer": "ipython3",
   "version": "3.13.1"
  }
 },
 "nbformat": 4,
 "nbformat_minor": 5
}
