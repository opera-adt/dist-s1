{
 "cells": [
  {
   "cell_type": "markdown",
   "id": "ff402f6b-df30-4f99-8742-1881c7e2e6b9",
   "metadata": {},
   "source": [
    "This is a notebook that illustrates how to run the end-to-end (e2e) workflow. Determining suitable parameters for the workflow are for operational considerations are explained in the ops library [`dist-s1-enumerator`](https://github.com/opera-adt/dist-s1-enumerator) - specifically, see this [notebook](https://github.com/opera-adt/dist-s1-enumerator/blob/dev/notebooks/A__Staging_Inputs_for_One_MGRS_Tile.ipynb)."
   ]
  },
  {
   "cell_type": "code",
   "execution_count": 1,
   "id": "91fb3320-c91c-465c-9ac3-926076e413e6",
   "metadata": {},
   "outputs": [],
   "source": [
    "from dist_s1 import run_dist_s1_workflow\n",
    "from pathlib import Path"
   ]
  },
  {
   "cell_type": "code",
   "execution_count": 2,
   "id": "7ce1f145-b58c-4982-b256-6a56b552d4cc",
   "metadata": {},
   "outputs": [],
   "source": [
    "mgrs_tile_id = '10SGD'\n",
    "post_date = '2025-01-02'\n",
    "track_number = 137\n",
    "dst_dir = Path('out')\n",
    "memory_strategy = 'low'"
   ]
  },
  {
   "cell_type": "markdown",
   "id": "b8fe080a-df2c-493d-a65b-f280470c5a31",
   "metadata": {},
   "source": [
    "The downloading may be unstable, but currently the downloading step does not overwrite data so it can easily be rerun if it fails."
   ]
  },
  {
   "cell_type": "code",
   "execution_count": 3,
   "id": "3a0c448d-f360-435d-bc0d-8504753f5940",
   "metadata": {},
   "outputs": [
    {
     "data": {
      "application/vnd.jupyter.widget-view+json": {
       "model_id": "564260d6f14341bb8b0a694648a81517",
       "version_major": 2,
       "version_minor": 0
      },
      "text/plain": [
       "Downloading RTC-S1 burst data:   0%| | 0/390 [00:00<?"
      ]
     },
     "metadata": {},
     "output_type": "display_data"
    },
    {
     "name": "stderr",
     "output_type": "stream",
     "text": [
      "Despeckling batch: 100%|█| 4/4 [00:00<00:00, 1645.31i\n",
      "/Users/cmarshak/bekaert-team/dist-s1/src/dist_s1/data_models/runconfig_model.py:290: FutureWarning: The provided callable <built-in function max> is currently using np.maximum.reduce. In a future version of pandas, the provided callable will be used directly. To keep current behavior pass the string np.maximum.reduce instead.\n",
      "  df_date = df_inputs.groupby('jpl_burst_id')['acq_dt'].apply(max).reset_index(drop=False)\n"
     ]
    },
    {
     "data": {
      "application/vnd.jupyter.widget-view+json": {
       "model_id": "7a22c95adc6f42d1b8914a3ebfdf378d",
       "version_major": 2,
       "version_minor": 0
      },
      "text/plain": [
       "Param Est. by Burst:   0%|    | 0/15 [00:00<?, ?it/s]"
      ]
     },
     "metadata": {},
     "output_type": "display_data"
    },
    {
     "data": {
      "application/vnd.jupyter.widget-view+json": {
       "model_id": "8e0391b592684c35a666903637d29232",
       "version_major": 2,
       "version_minor": 0
      },
      "text/plain": [
       "Lookbacks for burst T137-292318-IW1:   0%| | 0/3 [00:"
      ]
     },
     "metadata": {},
     "output_type": "display_data"
    },
    {
     "ename": "ValueError",
     "evalue": "memory strategy must be high or low",
     "output_type": "error",
     "traceback": [
      "\u001b[0;31m---------------------------------------------------------------------------\u001b[0m",
      "\u001b[0;31mValueError\u001b[0m                                Traceback (most recent call last)",
      "Cell \u001b[0;32mIn[3], line 1\u001b[0m\n\u001b[0;32m----> 1\u001b[0m _ \u001b[38;5;241m=\u001b[39m \u001b[43mrun_dist_s1_workflow\u001b[49m\u001b[43m(\u001b[49m\u001b[43mmgrs_tile_id\u001b[49m\u001b[43m,\u001b[49m\u001b[43m \u001b[49m\u001b[43mpost_date\u001b[49m\u001b[43m,\u001b[49m\u001b[43m \u001b[49m\u001b[43mtrack_number\u001b[49m\u001b[43m,\u001b[49m\u001b[43m \u001b[49m\u001b[43mpost_date_buffer_days\u001b[49m\u001b[43m \u001b[49m\u001b[38;5;241;43m=\u001b[39;49m\u001b[43m \u001b[49m\u001b[38;5;241;43m1\u001b[39;49m\u001b[43m,\u001b[49m\u001b[43m \u001b[49m\u001b[43mdst_dir\u001b[49m\u001b[38;5;241;43m=\u001b[39;49m\u001b[43mdst_dir\u001b[49m\u001b[43m,\u001b[49m\u001b[43m \u001b[49m\u001b[43mmemory_strategy\u001b[49m\u001b[38;5;241;43m=\u001b[39;49m\u001b[43mmemory_strategy\u001b[49m\u001b[43m)\u001b[49m\n",
      "File \u001b[0;32m~/bekaert-team/dist-s1/src/dist_s1/workflows.py:230\u001b[0m, in \u001b[0;36mrun_dist_s1_workflow\u001b[0;34m(mgrs_tile_id, post_date, track_number, post_date_buffer_days, dst_dir, input_data_dir, memory_strategy, tqdm_enabled)\u001b[0m\n\u001b[1;32m    227\u001b[0m run_config\u001b[38;5;241m.\u001b[39mmemory_strategy \u001b[38;5;241m=\u001b[39m \u001b[38;5;124m'\u001b[39m\u001b[38;5;124mfoo\u001b[39m\u001b[38;5;124m'\u001b[39m  \u001b[38;5;66;03m# memory_strategy\u001b[39;00m\n\u001b[1;32m    228\u001b[0m run_config\u001b[38;5;241m.\u001b[39mtqdm_enabled \u001b[38;5;241m=\u001b[39m tqdm_enabled\n\u001b[0;32m--> 230\u001b[0m _ \u001b[38;5;241m=\u001b[39m \u001b[43mrun_dist_s1_sas_workflow\u001b[49m\u001b[43m(\u001b[49m\u001b[43mrun_config\u001b[49m\u001b[43m)\u001b[49m\n\u001b[1;32m    232\u001b[0m \u001b[38;5;28;01mreturn\u001b[39;00m run_config\n",
      "File \u001b[0;32m~/bekaert-team/dist-s1/src/dist_s1/workflows.py:204\u001b[0m, in \u001b[0;36mrun_dist_s1_sas_workflow\u001b[0;34m(run_config)\u001b[0m\n\u001b[1;32m    203\u001b[0m \u001b[38;5;28;01mdef\u001b[39;00m \u001b[38;5;21mrun_dist_s1_sas_workflow\u001b[39m(run_config: RunConfigData) \u001b[38;5;241m-\u001b[39m\u001b[38;5;241m>\u001b[39m Path:\n\u001b[0;32m--> 204\u001b[0m     _ \u001b[38;5;241m=\u001b[39m \u001b[43mrun_dist_s1_processing_workflow\u001b[49m\u001b[43m(\u001b[49m\u001b[43mrun_config\u001b[49m\u001b[43m)\u001b[49m\n\u001b[1;32m    205\u001b[0m     _ \u001b[38;5;241m=\u001b[39m run_dist_s1_packaging_workflow(run_config)\n\u001b[1;32m    206\u001b[0m     \u001b[38;5;28;01mreturn\u001b[39;00m run_config\n",
      "File \u001b[0;32m~/bekaert-team/dist-s1/src/dist_s1/workflows.py:191\u001b[0m, in \u001b[0;36mrun_dist_s1_processing_workflow\u001b[0;34m(run_config)\u001b[0m\n\u001b[1;32m    188\u001b[0m run_despeckle_workflow(run_config)\n\u001b[1;32m    190\u001b[0m \u001b[38;5;66;03m# Compute normal params for logit transformed data per burst\u001b[39;00m\n\u001b[0;32m--> 191\u001b[0m \u001b[43mrun_normal_param_estimation_workflow\u001b[49m\u001b[43m(\u001b[49m\u001b[43mrun_config\u001b[49m\u001b[43m)\u001b[49m\n\u001b[1;32m    193\u001b[0m \u001b[38;5;66;03m# Compute disturbance per burst and all possible lookbacks\u001b[39;00m\n\u001b[1;32m    194\u001b[0m run_burst_disturbance_workflow(run_config)\n",
      "File \u001b[0;32m~/bekaert-team/dist-s1/src/dist_s1/workflows.py:122\u001b[0m, in \u001b[0;36mrun_normal_param_estimation_workflow\u001b[0;34m(run_config)\u001b[0m\n\u001b[1;32m    119\u001b[0m output_sigma_copol_path \u001b[38;5;241m=\u001b[39m output_sigma_copol_l[\u001b[38;5;241m0\u001b[39m]\n\u001b[1;32m    120\u001b[0m output_sigma_crosspol_path \u001b[38;5;241m=\u001b[39m output_sigma_crosspol_l[\u001b[38;5;241m0\u001b[39m]\n\u001b[0;32m--> 122\u001b[0m \u001b[43mcompute_normal_params_per_burst_and_serialize\u001b[49m\u001b[43m(\u001b[49m\n\u001b[1;32m    123\u001b[0m \u001b[43m    \u001b[49m\u001b[43mcopol_paths\u001b[49m\u001b[43m,\u001b[49m\n\u001b[1;32m    124\u001b[0m \u001b[43m    \u001b[49m\u001b[43mcrosspol_paths\u001b[49m\u001b[43m,\u001b[49m\n\u001b[1;32m    125\u001b[0m \u001b[43m    \u001b[49m\u001b[43moutput_mu_copol_path\u001b[49m\u001b[43m,\u001b[49m\n\u001b[1;32m    126\u001b[0m \u001b[43m    \u001b[49m\u001b[43moutput_mu_crosspol_path\u001b[49m\u001b[43m,\u001b[49m\n\u001b[1;32m    127\u001b[0m \u001b[43m    \u001b[49m\u001b[43moutput_sigma_copol_path\u001b[49m\u001b[43m,\u001b[49m\n\u001b[1;32m    128\u001b[0m \u001b[43m    \u001b[49m\u001b[43moutput_sigma_crosspol_path\u001b[49m\u001b[43m,\u001b[49m\n\u001b[1;32m    129\u001b[0m \u001b[43m    \u001b[49m\u001b[43mmemory_strategy\u001b[49m\u001b[38;5;241;43m=\u001b[39;49m\u001b[43mrun_config\u001b[49m\u001b[38;5;241;43m.\u001b[39;49m\u001b[43mmemory_strategy\u001b[49m\u001b[43m,\u001b[49m\n\u001b[1;32m    130\u001b[0m \u001b[43m\u001b[49m\u001b[43m)\u001b[49m\n",
      "File \u001b[0;32m~/bekaert-team/dist-s1/src/dist_s1/processing.py:65\u001b[0m, in \u001b[0;36mcompute_normal_params_per_burst_and_serialize\u001b[0;34m(pre_copol_paths_dskpl_paths, pre_crosspol_paths_dskpl_paths, out_path_mu_copol, out_path_mu_crosspol, out_path_sigma_copol, out_path_sigma_crosspol, memory_strategy)\u001b[0m\n\u001b[1;32m     62\u001b[0m     check_profiles_match(p_ref, p_copol)\n\u001b[1;32m     63\u001b[0m     check_profiles_match(p_ref, p_crosspol)\n\u001b[0;32m---> 65\u001b[0m logits_mu, logits_sigma \u001b[38;5;241m=\u001b[39m \u001b[43mestimate_normal_params_of_logits\u001b[49m\u001b[43m(\u001b[49m\n\u001b[1;32m     66\u001b[0m \u001b[43m    \u001b[49m\u001b[43mmodel\u001b[49m\u001b[43m,\u001b[49m\u001b[43m \u001b[49m\u001b[43marrs_copol\u001b[49m\u001b[43m,\u001b[49m\u001b[43m \u001b[49m\u001b[43marrs_crosspol\u001b[49m\u001b[43m,\u001b[49m\u001b[43m \u001b[49m\u001b[43mmemory_strategy\u001b[49m\u001b[38;5;241;43m=\u001b[39;49m\u001b[43mmemory_strategy\u001b[49m\n\u001b[1;32m     67\u001b[0m \u001b[43m\u001b[49m\u001b[43m)\u001b[49m\n\u001b[1;32m     68\u001b[0m logits_mu_copol, logits_mu_crosspol \u001b[38;5;241m=\u001b[39m logits_mu[\u001b[38;5;241m0\u001b[39m, \u001b[38;5;241m.\u001b[39m\u001b[38;5;241m.\u001b[39m\u001b[38;5;241m.\u001b[39m], logits_mu[\u001b[38;5;241m1\u001b[39m, \u001b[38;5;241m.\u001b[39m\u001b[38;5;241m.\u001b[39m\u001b[38;5;241m.\u001b[39m]\n\u001b[1;32m     69\u001b[0m logits_sigma_copol, logits_sigma_crosspol \u001b[38;5;241m=\u001b[39m logits_sigma[\u001b[38;5;241m0\u001b[39m, \u001b[38;5;241m.\u001b[39m\u001b[38;5;241m.\u001b[39m\u001b[38;5;241m.\u001b[39m], logits_sigma[\u001b[38;5;241m1\u001b[39m, \u001b[38;5;241m.\u001b[39m\u001b[38;5;241m.\u001b[39m\u001b[38;5;241m.\u001b[39m]\n",
      "File \u001b[0;32m~/bekaert-team/distmetrics/src/distmetrics/transformer.py:459\u001b[0m, in \u001b[0;36mestimate_normal_params_of_logits\u001b[0;34m(model, imgs_copol, imgs_crosspol, stride, batch_size, tqdm_enabled, memory_strategy)\u001b[0m\n\u001b[1;32m    449\u001b[0m \u001b[38;5;28;01mdef\u001b[39;00m \u001b[38;5;21mestimate_normal_params_of_logits\u001b[39m(\n\u001b[1;32m    450\u001b[0m     model: torch\u001b[38;5;241m.\u001b[39mnn\u001b[38;5;241m.\u001b[39mModule,\n\u001b[1;32m    451\u001b[0m     imgs_copol: \u001b[38;5;28mlist\u001b[39m[np\u001b[38;5;241m.\u001b[39mndarray],\n\u001b[0;32m   (...)\u001b[0m\n\u001b[1;32m    456\u001b[0m     memory_strategy: \u001b[38;5;28mstr\u001b[39m \u001b[38;5;241m=\u001b[39m \u001b[38;5;124m'\u001b[39m\u001b[38;5;124mhigh\u001b[39m\u001b[38;5;124m'\u001b[39m,\n\u001b[1;32m    457\u001b[0m ) \u001b[38;5;241m-\u001b[39m\u001b[38;5;241m>\u001b[39m \u001b[38;5;28mtuple\u001b[39m[np\u001b[38;5;241m.\u001b[39mndarray]:\n\u001b[1;32m    458\u001b[0m     \u001b[38;5;28;01mif\u001b[39;00m memory_strategy \u001b[38;5;129;01mnot\u001b[39;00m \u001b[38;5;129;01min\u001b[39;00m [\u001b[38;5;124m'\u001b[39m\u001b[38;5;124mhigh\u001b[39m\u001b[38;5;124m'\u001b[39m, \u001b[38;5;124m'\u001b[39m\u001b[38;5;124mlow\u001b[39m\u001b[38;5;124m'\u001b[39m]:\n\u001b[0;32m--> 459\u001b[0m         \u001b[38;5;28;01mraise\u001b[39;00m \u001b[38;5;167;01mValueError\u001b[39;00m(\u001b[38;5;124m'\u001b[39m\u001b[38;5;124mmemory strategy must be high or low\u001b[39m\u001b[38;5;124m'\u001b[39m)\n\u001b[1;32m    461\u001b[0m     estimate_logits \u001b[38;5;241m=\u001b[39m (\n\u001b[1;32m    462\u001b[0m         _estimate_logit_params_via_folding \u001b[38;5;28;01mif\u001b[39;00m memory_strategy \u001b[38;5;241m==\u001b[39m \u001b[38;5;124m'\u001b[39m\u001b[38;5;124mhigh\u001b[39m\u001b[38;5;124m'\u001b[39m \u001b[38;5;28;01melse\u001b[39;00m _estimate_logit_params_via_streamed_patches\n\u001b[1;32m    463\u001b[0m     )\n\u001b[1;32m    465\u001b[0m     mu, sigma \u001b[38;5;241m=\u001b[39m estimate_logits(\n\u001b[1;32m    466\u001b[0m         model, imgs_copol, imgs_crosspol, stride\u001b[38;5;241m=\u001b[39mstride, batch_size\u001b[38;5;241m=\u001b[39mbatch_size, tqdm_enabled\u001b[38;5;241m=\u001b[39mtqdm_enabled\n\u001b[1;32m    467\u001b[0m     )\n",
      "\u001b[0;31mValueError\u001b[0m: memory strategy must be high or low"
     ]
    }
   ],
   "source": [
    "_ = run_dist_s1_workflow(mgrs_tile_id, post_date, track_number, post_date_buffer_days = 1, dst_dir=dst_dir, memory_strategy=memory_strategy)"
   ]
  }
 ],
 "metadata": {
  "kernelspec": {
   "display_name": "dist-s1-env",
   "language": "python",
   "name": "dist-s1-env"
  },
  "language_info": {
   "codemirror_mode": {
    "name": "ipython",
    "version": 3
   },
   "file_extension": ".py",
   "mimetype": "text/x-python",
   "name": "python",
   "nbconvert_exporter": "python",
   "pygments_lexer": "ipython3",
   "version": "3.13.1"
  }
 },
 "nbformat": 4,
 "nbformat_minor": 5
}
