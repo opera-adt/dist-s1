{
 "cells": [
  {
   "cell_type": "markdown",
   "id": "ff402f6b-df30-4f99-8742-1881c7e2e6b9",
   "metadata": {},
   "source": [
    "This is a notebook that illustrates how to run the end-to-end (e2e) workflow. Determining suitable parameters for the workflow are for operational considerations are explained in the ops library [`dist-s1-enumerator`](https://github.com/opera-adt/dist-s1-enumerator) - specifically, see this [notebook](https://github.com/opera-adt/dist-s1-enumerator/blob/dev/notebooks/A__Staging_Inputs_for_One_MGRS_Tile.ipynb)."
   ]
  },
  {
   "cell_type": "code",
   "execution_count": 1,
   "id": "91fb3320-c91c-465c-9ac3-926076e413e6",
   "metadata": {},
   "outputs": [],
   "source": [
    "from dist_s1 import run_dist_s1_workflow\n",
    "from pathlib import Path"
   ]
  },
  {
   "cell_type": "code",
   "execution_count": 2,
   "id": "7ce1f145-b58c-4982-b256-6a56b552d4cc",
   "metadata": {},
   "outputs": [],
   "source": [
    "mgrs_tile_id = '10SGD'\n",
    "post_date = '2025-01-02'\n",
    "track_number = 137\n",
    "dst_dir = Path('out')\n",
    "memory_strategy = 'low'"
   ]
  },
  {
   "cell_type": "markdown",
   "id": "b8fe080a-df2c-493d-a65b-f280470c5a31",
   "metadata": {},
   "source": [
    "The downloading may be unstable, but currently the downloading step does not overwrite data so it can easily be rerun if it fails."
   ]
  },
  {
   "cell_type": "code",
   "execution_count": null,
   "id": "3a0c448d-f360-435d-bc0d-8504753f5940",
   "metadata": {},
   "outputs": [
    {
     "data": {
      "application/vnd.jupyter.widget-view+json": {
       "model_id": "69e35737f69f4ff49655cefe83cb2bc5",
       "version_major": 2,
       "version_minor": 0
      },
      "text/plain": [
       "Downloading RTC-S1 burst data:   0%| | 0/390 [00:00<?"
      ]
     },
     "metadata": {},
     "output_type": "display_data"
    },
    {
     "name": "stderr",
     "output_type": "stream",
     "text": [
      "Despeckling batch: 100%|█| 4/4 [00:00<00:00, 1558.79i\n",
      "/Users/cmarshak/bekaert-team/dist-s1/src/dist_s1/data_models/runconfig_model.py:290: FutureWarning: The provided callable <built-in function max> is currently using np.maximum.reduce. In a future version of pandas, the provided callable will be used directly. To keep current behavior pass the string np.maximum.reduce instead.\n",
      "  df_date = df_inputs.groupby('jpl_burst_id')['acq_dt'].apply(max).reset_index(drop=False)\n"
     ]
    },
    {
     "data": {
      "application/vnd.jupyter.widget-view+json": {
       "model_id": "31dc7ffa10ba4dac8dce8c1a45d52d00",
       "version_major": 2,
       "version_minor": 0
      },
      "text/plain": [
       "Param Est. by Burst:   0%|    | 0/15 [00:00<?, ?it/s]"
      ]
     },
     "metadata": {},
     "output_type": "display_data"
    },
    {
     "data": {
      "application/vnd.jupyter.widget-view+json": {
       "model_id": "3b4ebed4d6c842cd97b9a01f30f838be",
       "version_major": 2,
       "version_minor": 0
      },
      "text/plain": [
       "Lookbacks for burst T137-292318-IW1:   0%| | 0/3 [00:"
      ]
     },
     "metadata": {},
     "output_type": "display_data"
    },
    {
     "data": {
      "application/vnd.jupyter.widget-view+json": {
       "model_id": "f3b5efd699e840919236f58762242bdd",
       "version_major": 2,
       "version_minor": 0
      },
      "text/plain": [
       "Chips Traversed:   0%|     | 0/38363 [00:00<?, ?it/s]"
      ]
     },
     "metadata": {},
     "output_type": "display_data"
    }
   ],
   "source": [
    "_ = run_dist_s1_workflow(mgrs_tile_id, post_date, track_number, post_date_buffer_days = 1, dst_dir=dst_dir, memory_strategy=memory_strategy)"
   ]
  }
 ],
 "metadata": {
  "kernelspec": {
   "display_name": "dist-s1-env",
   "language": "python",
   "name": "dist-s1-env"
  },
  "language_info": {
   "codemirror_mode": {
    "name": "ipython",
    "version": 3
   },
   "file_extension": ".py",
   "mimetype": "text/x-python",
   "name": "python",
   "nbconvert_exporter": "python",
   "pygments_lexer": "ipython3",
   "version": "3.13.1"
  }
 },
 "nbformat": 4,
 "nbformat_minor": 5
}
