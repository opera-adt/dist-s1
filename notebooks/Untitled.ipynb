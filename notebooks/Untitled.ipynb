{
 "cells": [
  {
   "cell_type": "code",
   "execution_count": 2,
   "id": "27bff988-1d00-45f9-a989-7f0d394ea836",
   "metadata": {},
   "outputs": [],
   "source": [
    "import asf_search as asf\n",
    "from dist_s1 import get_lut_by_mgrs_tile_id"
   ]
  },
  {
   "cell_type": "code",
   "execution_count": null,
   "id": "a6d62f5d-ef81-4c10-8b74-2ba5a6546f5f",
   "metadata": {},
   "outputs": [],
   "source": []
  }
 ],
 "metadata": {
  "kernelspec": {
   "display_name": "dist-s1-env",
   "language": "python",
   "name": "dist-s1-env"
  },
  "language_info": {
   "codemirror_mode": {
    "name": "ipython",
    "version": 3
   },
   "file_extension": ".py",
   "mimetype": "text/x-python",
   "name": "python",
   "nbconvert_exporter": "python",
   "pygments_lexer": "ipython3",
   "version": "3.13.0"
  }
 },
 "nbformat": 4,
 "nbformat_minor": 5
}
