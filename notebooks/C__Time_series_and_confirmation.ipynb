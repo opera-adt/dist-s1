{
 "cells": [
  {
   "cell_type": "code",
   "execution_count": 1,
   "id": "46f0826c-66aa-4cac-aac3-16b2b6930742",
   "metadata": {},
   "outputs": [],
   "source": [
    "%load_ext autoreload\n",
    "%autoreload 2"
   ]
  },
  {
   "cell_type": "markdown",
   "id": "6d6414c0-3fc0-4109-8949-6d7c33b5593c",
   "metadata": {},
   "source": [
    "This notebook illustrates:\n",
    "\n",
    "- enumeration of DIST-S1 inputs over an MGRS tile\n",
    "- generation of DIST-S1 products (without confirmation)\n",
    "- and run the confirmation workflow over the generated products."
   ]
  },
  {
   "cell_type": "code",
   "execution_count": 2,
   "id": "aafd6473-25a7-448c-9ba7-20670d81fcf8",
   "metadata": {},
   "outputs": [
    {
     "name": "stderr",
     "output_type": "stream",
     "text": [
      "/Users/cmarshak/miniforge3/envs/dist-s1-env/lib/python3.13/site-packages/tqdm/auto.py:21: TqdmWarning: IProgress not found. Please update jupyter and ipywidgets. See https://ipywidgets.readthedocs.io/en/stable/user_install.html\n",
      "  from .autonotebook import tqdm as notebook_tqdm\n"
     ]
    }
   ],
   "source": [
    "from dist_s1_enumerator.dist_enum_inputs import enumerate_dist_s1_workflow_inputs\n",
    "import pandas as pd\n",
    "from dist_s1 import run_dist_s1_workflow\n",
    "from pathlib import Path\n",
    "from tqdm.auto import tqdm\n",
    "from dist_s1.workflows import run_sequential_confirmation_of_dist_products_workflow"
   ]
  },
  {
   "cell_type": "markdown",
   "id": "cb814f83-1a24-4ec4-8a6a-db1d7bc95855",
   "metadata": {},
   "source": [
    "# Parameters"
   ]
  },
  {
   "cell_type": "code",
   "execution_count": 3,
   "id": "ffd2794f-5588-41cf-b60b-75870220985d",
   "metadata": {},
   "outputs": [],
   "source": [
    "# Chile Fire Example (Feb 4, 2024)\n",
    "MGRS_TILE_ID = '19HBD'\n",
    "START_TIME = '2023-11-01'\n",
    "STOP_TIME = '2024-04-01'\n",
    "TRACK_NUMBERS=None\n",
    "EVENT_ID = 'Chile'"
   ]
  },
  {
   "cell_type": "markdown",
   "id": "97e2e372-7116-474f-901f-8e466b58729f",
   "metadata": {},
   "source": [
    "# Enumeration"
   ]
  },
  {
   "cell_type": "code",
   "execution_count": 4,
   "id": "1b9270cc-6414-4819-8789-a3e3c00e02f7",
   "metadata": {},
   "outputs": [
    {
     "name": "stderr",
     "output_type": "stream",
     "text": [
      "Enumerate by MGRS tiles: 100%|██████████████████████████████| 1/1 [00:01<00:00,  1.11s/it]\n"
     ]
    },
    {
     "data": {
      "text/plain": [
       "36"
      ]
     },
     "execution_count": 4,
     "metadata": {},
     "output_type": "execute_result"
    }
   ],
   "source": [
    "workflow_inputs = enumerate_dist_s1_workflow_inputs(mgrs_tile_ids=MGRS_TILE_ID,\n",
    "                                                    track_numbers=TRACK_NUMBERS,\n",
    "                                                    start_acq_dt=START_TIME,\n",
    "                                                    stop_acq_dt=STOP_TIME,\n",
    "                                                    lookback_strategy='multi_window',\n",
    "                                                    delta_lookback_days=365,\n",
    "                                                    max_pre_imgs_per_burst=5)\n",
    "len(workflow_inputs)"
   ]
  },
  {
   "cell_type": "code",
   "execution_count": 5,
   "id": "889facab-e47a-41ac-989b-82a7df09bbe2",
   "metadata": {},
   "outputs": [
    {
     "data": {
      "text/plain": [
       "[{'mgrs_tile_id': '19HBD', 'post_acq_date': '2023-11-05', 'track_number': 91},\n",
       " {'mgrs_tile_id': '19HBD', 'post_acq_date': '2023-11-10', 'track_number': 156},\n",
       " {'mgrs_tile_id': '19HBD', 'post_acq_date': '2023-11-12', 'track_number': 18}]"
      ]
     },
     "execution_count": 5,
     "metadata": {},
     "output_type": "execute_result"
    }
   ],
   "source": [
    "workflow_inputs[:3]"
   ]
  },
  {
   "cell_type": "markdown",
   "id": "b97395d9-1da4-43ba-9bc6-f61e0b80fb2f",
   "metadata": {},
   "source": [
    "# DIST-S1 Product Generation (No Confirmation)"
   ]
  },
  {
   "cell_type": "code",
   "execution_count": 6,
   "id": "2b1ae539-3b86-42df-8adb-e7c246cd5076",
   "metadata": {},
   "outputs": [],
   "source": [
    "time_series_dir = Path(f'time_series/{EVENT_ID}')\n",
    "\n",
    "input_data_dir = time_series_dir / 'input_data'\n",
    "input_data_dir.mkdir(exist_ok=True, parents=True)\n",
    "\n",
    "scratch_dir = time_series_dir / 'scratch_dir'\n",
    "scratch_dir.mkdir(exist_ok=True, parents=True)\n",
    "\n",
    "product_dir_no_confirmation = time_series_dir / 'product_dir'\n",
    "product_dir_no_confirmation.mkdir(exist_ok=True, parents=True)"
   ]
  },
  {
   "cell_type": "code",
   "execution_count": 10,
   "id": "7c46efca-507e-4312-80a5-666bfd31526f",
   "metadata": {},
   "outputs": [],
   "source": [
    "for workfolow_input in tqdm(workflow_inputs[:11], desc='Generating Products without Confirmation'):\n",
    "    run_dist_s1_workflow(mgrs_tile_id=workfolow_input['mgrs_tile_id'],\n",
    "                         post_date=workfolow_input['post_acq_date'], \n",
    "                         track_number=workfolow_input['track_number'],\n",
    "                         memory_strategy='high',\n",
    "                         input_data_dir=input_data_dir, \n",
    "                         dst_dir=scratch_dir,\n",
    "                         product_dst_dir=product_dir_no_confirmation)"
   ]
  },
  {
   "cell_type": "markdown",
   "id": "81ee2fd1-3fac-4580-ba0c-e8b947fdc82b",
   "metadata": {},
   "source": [
    "# Confirmation"
   ]
  },
  {
   "cell_type": "code",
   "execution_count": 11,
   "id": "1bd86eac-7f34-42fe-8916-a2419cc44075",
   "metadata": {},
   "outputs": [],
   "source": [
    "confirmed_product_dir = time_series_dir / 'confirmed_product_dir'\n",
    "confirmed_product_dir.mkdir(exist_ok=True, parents=True)"
   ]
  },
  {
   "cell_type": "code",
   "execution_count": 12,
   "id": "4efa83ac-9497-46cf-bc97-69c52f831a72",
   "metadata": {},
   "outputs": [
    {
     "name": "stderr",
     "output_type": "stream",
     "text": [
      "Confirming 10 products: 100%|█████████████████████████████| 10/10 [00:32<00:00,  3.29s/it]\n"
     ]
    }
   ],
   "source": [
    "run_sequential_confirmation_of_dist_products_workflow(product_dir_no_confirmation,\n",
    "                                                      confirmed_product_dir)"
   ]
  }
 ],
 "metadata": {
  "kernelspec": {
   "display_name": "dist-s1-env",
   "language": "python",
   "name": "dist-s1-env"
  },
  "language_info": {
   "codemirror_mode": {
    "name": "ipython",
    "version": 3
   },
   "file_extension": ".py",
   "mimetype": "text/x-python",
   "name": "python",
   "nbconvert_exporter": "python",
   "pygments_lexer": "ipython3",
   "version": "3.13.3"
  }
 },
 "nbformat": 4,
 "nbformat_minor": 5
}
