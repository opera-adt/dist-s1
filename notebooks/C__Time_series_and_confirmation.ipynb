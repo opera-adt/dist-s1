{
 "cells": [
  {
   "cell_type": "code",
   "execution_count": 1,
   "id": "46f0826c-66aa-4cac-aac3-16b2b6930742",
   "metadata": {},
   "outputs": [],
   "source": [
    "%load_ext autoreload\n",
    "%autoreload 2"
   ]
  },
  {
   "cell_type": "markdown",
   "id": "6d6414c0-3fc0-4109-8949-6d7c33b5593c",
   "metadata": {},
   "source": [
    "This notebook illustrates:\n",
    "\n",
    "- enumeration of DIST-S1 inputs over an MGRS tile\n",
    "- generation of DIST-S1 products (without confirmation)\n",
    "- and run the confirmation workflow over the generated products."
   ]
  },
  {
   "cell_type": "code",
   "execution_count": 59,
   "id": "aafd6473-25a7-448c-9ba7-20670d81fcf8",
   "metadata": {},
   "outputs": [],
   "source": [
    "from dist_s1_enumerator import get_rtc_s1_ts_metadata_from_mgrs_tiles\n",
    "from dist_s1_enumerator.dist_enum import enumerate_dist_s1_products\n",
    "import pandas as pd\n",
    "from dist_s1 import run_dist_s1_workflow\n",
    "from pathlib import Path\n",
    "from tqdm.auto import tqdm\n",
    "from dist_s1.workflows import run_sequential_confirmation_of_dist_products_workflow"
   ]
  },
  {
   "cell_type": "markdown",
   "id": "cb814f83-1a24-4ec4-8a6a-db1d7bc95855",
   "metadata": {},
   "source": [
    "# Parameters"
   ]
  },
  {
   "cell_type": "code",
   "execution_count": 38,
   "id": "ffd2794f-5588-41cf-b60b-75870220985d",
   "metadata": {},
   "outputs": [],
   "source": [
    "# Chile Fire Example (Feb 4, 2024)\n",
    "MGRS_TILE_ID = '19HBD'\n",
    "START_TIME = '2023-10-01'\n",
    "STOP_TIME = '2024-05-01'\n",
    "EVENT_ID = 'Chile'"
   ]
  },
  {
   "cell_type": "markdown",
   "id": "97e2e372-7116-474f-901f-8e466b58729f",
   "metadata": {},
   "source": [
    "# Enumeration"
   ]
  },
  {
   "cell_type": "code",
   "execution_count": 7,
   "id": "1b9270cc-6414-4819-8789-a3e3c00e02f7",
   "metadata": {},
   "outputs": [
    {
     "data": {
      "text/html": [
       "<div>\n",
       "<style scoped>\n",
       "    .dataframe tbody tr th:only-of-type {\n",
       "        vertical-align: middle;\n",
       "    }\n",
       "\n",
       "    .dataframe tbody tr th {\n",
       "        vertical-align: top;\n",
       "    }\n",
       "\n",
       "    .dataframe thead th {\n",
       "        text-align: right;\n",
       "    }\n",
       "</style>\n",
       "<table border=\"1\" class=\"dataframe\">\n",
       "  <thead>\n",
       "    <tr style=\"text-align: right;\">\n",
       "      <th></th>\n",
       "      <th>opera_id</th>\n",
       "      <th>jpl_burst_id</th>\n",
       "      <th>acq_dt</th>\n",
       "      <th>acq_date_for_mgrs_pass</th>\n",
       "      <th>polarizations</th>\n",
       "      <th>track_number</th>\n",
       "      <th>pass_id</th>\n",
       "      <th>url_crosspol</th>\n",
       "      <th>url_copol</th>\n",
       "      <th>geometry</th>\n",
       "      <th>mgrs_tile_id</th>\n",
       "      <th>acq_group_id_within_mgrs_tile</th>\n",
       "      <th>track_token</th>\n",
       "    </tr>\n",
       "  </thead>\n",
       "  <tbody>\n",
       "    <tr>\n",
       "      <th>0</th>\n",
       "      <td>OPERA_L2_RTC-S1_T018-038454-IW2_20220109T23282...</td>\n",
       "      <td>T018-038454-IW2</td>\n",
       "      <td>2022-01-09 23:28:26+00:00</td>\n",
       "      <td>2022-01-09</td>\n",
       "      <td>VV+VH</td>\n",
       "      <td>18</td>\n",
       "      <td>488</td>\n",
       "      <td>https://datapool.asf.alaska.edu/RTC/OPERA-S1/O...</td>\n",
       "      <td>https://datapool.asf.alaska.edu/RTC/OPERA-S1/O...</td>\n",
       "      <td>POLYGON ((-71.40065 -33.77086, -70.87849 -33.6...</td>\n",
       "      <td>19HBD</td>\n",
       "      <td>0</td>\n",
       "      <td>18</td>\n",
       "    </tr>\n",
       "    <tr>\n",
       "      <th>1</th>\n",
       "      <td>OPERA_L2_RTC-S1_T018-038454-IW2_20220121T23282...</td>\n",
       "      <td>T018-038454-IW2</td>\n",
       "      <td>2022-01-21 23:28:26+00:00</td>\n",
       "      <td>2022-01-21</td>\n",
       "      <td>VV+VH</td>\n",
       "      <td>18</td>\n",
       "      <td>490</td>\n",
       "      <td>https://datapool.asf.alaska.edu/RTC/OPERA-S1/O...</td>\n",
       "      <td>https://datapool.asf.alaska.edu/RTC/OPERA-S1/O...</td>\n",
       "      <td>POLYGON ((-71.40085 -33.77118, -70.87869 -33.6...</td>\n",
       "      <td>19HBD</td>\n",
       "      <td>0</td>\n",
       "      <td>18</td>\n",
       "    </tr>\n",
       "    <tr>\n",
       "      <th>2</th>\n",
       "      <td>OPERA_L2_RTC-S1_T018-038454-IW2_20220202T23282...</td>\n",
       "      <td>T018-038454-IW2</td>\n",
       "      <td>2022-02-02 23:28:25+00:00</td>\n",
       "      <td>2022-02-02</td>\n",
       "      <td>VV+VH</td>\n",
       "      <td>18</td>\n",
       "      <td>492</td>\n",
       "      <td>https://datapool.asf.alaska.edu/RTC/OPERA-S1/O...</td>\n",
       "      <td>https://datapool.asf.alaska.edu/RTC/OPERA-S1/O...</td>\n",
       "      <td>POLYGON ((-71.40045 -33.77151, -70.87825 -33.6...</td>\n",
       "      <td>19HBD</td>\n",
       "      <td>0</td>\n",
       "      <td>18</td>\n",
       "    </tr>\n",
       "    <tr>\n",
       "      <th>3</th>\n",
       "      <td>OPERA_L2_RTC-S1_T018-038454-IW2_20220214T23282...</td>\n",
       "      <td>T018-038454-IW2</td>\n",
       "      <td>2022-02-14 23:28:25+00:00</td>\n",
       "      <td>2022-02-14</td>\n",
       "      <td>VV+VH</td>\n",
       "      <td>18</td>\n",
       "      <td>494</td>\n",
       "      <td>https://datapool.asf.alaska.edu/RTC/OPERA-S1/O...</td>\n",
       "      <td>https://datapool.asf.alaska.edu/RTC/OPERA-S1/O...</td>\n",
       "      <td>POLYGON ((-71.40173 -33.77083, -70.87953 -33.6...</td>\n",
       "      <td>19HBD</td>\n",
       "      <td>0</td>\n",
       "      <td>18</td>\n",
       "    </tr>\n",
       "    <tr>\n",
       "      <th>4</th>\n",
       "      <td>OPERA_L2_RTC-S1_T018-038454-IW2_20220226T23282...</td>\n",
       "      <td>T018-038454-IW2</td>\n",
       "      <td>2022-02-26 23:28:25+00:00</td>\n",
       "      <td>2022-02-26</td>\n",
       "      <td>VV+VH</td>\n",
       "      <td>18</td>\n",
       "      <td>496</td>\n",
       "      <td>https://datapool.asf.alaska.edu/RTC/OPERA-S1/O...</td>\n",
       "      <td>https://datapool.asf.alaska.edu/RTC/OPERA-S1/O...</td>\n",
       "      <td>POLYGON ((-71.40151 -33.77094, -70.87931 -33.6...</td>\n",
       "      <td>19HBD</td>\n",
       "      <td>0</td>\n",
       "      <td>18</td>\n",
       "    </tr>\n",
       "  </tbody>\n",
       "</table>\n",
       "</div>"
      ],
      "text/plain": [
       "                                            opera_id     jpl_burst_id  \\\n",
       "0  OPERA_L2_RTC-S1_T018-038454-IW2_20220109T23282...  T018-038454-IW2   \n",
       "1  OPERA_L2_RTC-S1_T018-038454-IW2_20220121T23282...  T018-038454-IW2   \n",
       "2  OPERA_L2_RTC-S1_T018-038454-IW2_20220202T23282...  T018-038454-IW2   \n",
       "3  OPERA_L2_RTC-S1_T018-038454-IW2_20220214T23282...  T018-038454-IW2   \n",
       "4  OPERA_L2_RTC-S1_T018-038454-IW2_20220226T23282...  T018-038454-IW2   \n",
       "\n",
       "                     acq_dt acq_date_for_mgrs_pass polarizations  \\\n",
       "0 2022-01-09 23:28:26+00:00             2022-01-09         VV+VH   \n",
       "1 2022-01-21 23:28:26+00:00             2022-01-21         VV+VH   \n",
       "2 2022-02-02 23:28:25+00:00             2022-02-02         VV+VH   \n",
       "3 2022-02-14 23:28:25+00:00             2022-02-14         VV+VH   \n",
       "4 2022-02-26 23:28:25+00:00             2022-02-26         VV+VH   \n",
       "\n",
       "   track_number  pass_id                                       url_crosspol  \\\n",
       "0            18      488  https://datapool.asf.alaska.edu/RTC/OPERA-S1/O...   \n",
       "1            18      490  https://datapool.asf.alaska.edu/RTC/OPERA-S1/O...   \n",
       "2            18      492  https://datapool.asf.alaska.edu/RTC/OPERA-S1/O...   \n",
       "3            18      494  https://datapool.asf.alaska.edu/RTC/OPERA-S1/O...   \n",
       "4            18      496  https://datapool.asf.alaska.edu/RTC/OPERA-S1/O...   \n",
       "\n",
       "                                           url_copol  \\\n",
       "0  https://datapool.asf.alaska.edu/RTC/OPERA-S1/O...   \n",
       "1  https://datapool.asf.alaska.edu/RTC/OPERA-S1/O...   \n",
       "2  https://datapool.asf.alaska.edu/RTC/OPERA-S1/O...   \n",
       "3  https://datapool.asf.alaska.edu/RTC/OPERA-S1/O...   \n",
       "4  https://datapool.asf.alaska.edu/RTC/OPERA-S1/O...   \n",
       "\n",
       "                                            geometry mgrs_tile_id  \\\n",
       "0  POLYGON ((-71.40065 -33.77086, -70.87849 -33.6...        19HBD   \n",
       "1  POLYGON ((-71.40085 -33.77118, -70.87869 -33.6...        19HBD   \n",
       "2  POLYGON ((-71.40045 -33.77151, -70.87825 -33.6...        19HBD   \n",
       "3  POLYGON ((-71.40173 -33.77083, -70.87953 -33.6...        19HBD   \n",
       "4  POLYGON ((-71.40151 -33.77094, -70.87931 -33.6...        19HBD   \n",
       "\n",
       "   acq_group_id_within_mgrs_tile track_token  \n",
       "0                              0          18  \n",
       "1                              0          18  \n",
       "2                              0          18  \n",
       "3                              0          18  \n",
       "4                              0          18  "
      ]
     },
     "execution_count": 7,
     "metadata": {},
     "output_type": "execute_result"
    }
   ],
   "source": [
    "df_ts = get_rtc_s1_ts_metadata_from_mgrs_tiles(\n",
    "    [MGRS_TILE_ID],\n",
    ")\n",
    "df_ts.head(5)"
   ]
  },
  {
   "cell_type": "code",
   "execution_count": 9,
   "id": "1592d96e-b573-49bf-85fd-31080ffa5fe4",
   "metadata": {},
   "outputs": [
    {
     "name": "stdout",
     "output_type": "stream",
     "text": [
      "Using multi-window lookback strategy\n"
     ]
    },
    {
     "name": "stderr",
     "output_type": "stream",
     "text": [
      "Enumerate by MGRS tiles: 100%|██████████████████████████████| 1/1 [00:00<00:00,  1.14it/s]\n"
     ]
    },
    {
     "data": {
      "text/html": [
       "<div>\n",
       "<style scoped>\n",
       "    .dataframe tbody tr th:only-of-type {\n",
       "        vertical-align: middle;\n",
       "    }\n",
       "\n",
       "    .dataframe tbody tr th {\n",
       "        vertical-align: top;\n",
       "    }\n",
       "\n",
       "    .dataframe thead th {\n",
       "        text-align: right;\n",
       "    }\n",
       "</style>\n",
       "<table border=\"1\" class=\"dataframe\">\n",
       "  <thead>\n",
       "    <tr style=\"text-align: right;\">\n",
       "      <th></th>\n",
       "      <th>opera_id</th>\n",
       "      <th>jpl_burst_id</th>\n",
       "      <th>acq_dt</th>\n",
       "      <th>acq_date_for_mgrs_pass</th>\n",
       "      <th>polarizations</th>\n",
       "      <th>track_number</th>\n",
       "      <th>pass_id</th>\n",
       "      <th>url_crosspol</th>\n",
       "      <th>url_copol</th>\n",
       "      <th>geometry</th>\n",
       "      <th>mgrs_tile_id</th>\n",
       "      <th>acq_group_id_within_mgrs_tile</th>\n",
       "      <th>track_token</th>\n",
       "      <th>input_category</th>\n",
       "      <th>product_id</th>\n",
       "    </tr>\n",
       "  </thead>\n",
       "  <tbody>\n",
       "    <tr>\n",
       "      <th>0</th>\n",
       "      <td>OPERA_L2_RTC-S1_T018-038454-IW2_20230609T23283...</td>\n",
       "      <td>T018-038454-IW2</td>\n",
       "      <td>2023-06-09 23:28:34+00:00</td>\n",
       "      <td>2023-06-09</td>\n",
       "      <td>VV+VH</td>\n",
       "      <td>18</td>\n",
       "      <td>574</td>\n",
       "      <td>https://datapool.asf.alaska.edu/RTC/OPERA-S1/O...</td>\n",
       "      <td>https://datapool.asf.alaska.edu/RTC/OPERA-S1/O...</td>\n",
       "      <td>POLYGON ((-71.40068 -33.77205, -70.87841 -33.6...</td>\n",
       "      <td>19HBD</td>\n",
       "      <td>0</td>\n",
       "      <td>18</td>\n",
       "      <td>pre</td>\n",
       "      <td>0</td>\n",
       "    </tr>\n",
       "    <tr>\n",
       "      <th>1</th>\n",
       "      <td>OPERA_L2_RTC-S1_T018-038455-IW1_20230609T23283...</td>\n",
       "      <td>T018-038455-IW1</td>\n",
       "      <td>2023-06-09 23:28:36+00:00</td>\n",
       "      <td>2023-06-09</td>\n",
       "      <td>VV+VH</td>\n",
       "      <td>18</td>\n",
       "      <td>574</td>\n",
       "      <td>https://datapool.asf.alaska.edu/RTC/OPERA-S1/O...</td>\n",
       "      <td>https://datapool.asf.alaska.edu/RTC/OPERA-S1/O...</td>\n",
       "      <td>POLYGON ((-72.31721 -33.86836, -71.32987 -33.6...</td>\n",
       "      <td>19HBD</td>\n",
       "      <td>0</td>\n",
       "      <td>18</td>\n",
       "      <td>pre</td>\n",
       "      <td>0</td>\n",
       "    </tr>\n",
       "    <tr>\n",
       "      <th>2</th>\n",
       "      <td>OPERA_L2_RTC-S1_T018-038455-IW2_20230609T23283...</td>\n",
       "      <td>T018-038455-IW2</td>\n",
       "      <td>2023-06-09 23:28:37+00:00</td>\n",
       "      <td>2023-06-09</td>\n",
       "      <td>VV+VH</td>\n",
       "      <td>18</td>\n",
       "      <td>574</td>\n",
       "      <td>https://datapool.asf.alaska.edu/RTC/OPERA-S1/O...</td>\n",
       "      <td>https://datapool.asf.alaska.edu/RTC/OPERA-S1/O...</td>\n",
       "      <td>POLYGON ((-71.45452 -33.60789, -70.44304 -33.3...</td>\n",
       "      <td>19HBD</td>\n",
       "      <td>0</td>\n",
       "      <td>18</td>\n",
       "      <td>pre</td>\n",
       "      <td>0</td>\n",
       "    </tr>\n",
       "    <tr>\n",
       "      <th>3</th>\n",
       "      <td>OPERA_L2_RTC-S1_T018-038456-IW1_20230609T23283...</td>\n",
       "      <td>T018-038456-IW1</td>\n",
       "      <td>2023-06-09 23:28:39+00:00</td>\n",
       "      <td>2023-06-09</td>\n",
       "      <td>VV+VH</td>\n",
       "      <td>18</td>\n",
       "      <td>574</td>\n",
       "      <td>https://datapool.asf.alaska.edu/RTC/OPERA-S1/O...</td>\n",
       "      <td>https://datapool.asf.alaska.edu/RTC/OPERA-S1/O...</td>\n",
       "      <td>POLYGON ((-72.36948 -33.704, -71.85728 -33.586...</td>\n",
       "      <td>19HBD</td>\n",
       "      <td>0</td>\n",
       "      <td>18</td>\n",
       "      <td>pre</td>\n",
       "      <td>0</td>\n",
       "    </tr>\n",
       "    <tr>\n",
       "      <th>4</th>\n",
       "      <td>OPERA_L2_RTC-S1_T018-038456-IW2_20230609T23283...</td>\n",
       "      <td>T018-038456-IW2</td>\n",
       "      <td>2023-06-09 23:28:39+00:00</td>\n",
       "      <td>2023-06-09</td>\n",
       "      <td>VV+VH</td>\n",
       "      <td>18</td>\n",
       "      <td>574</td>\n",
       "      <td>https://datapool.asf.alaska.edu/RTC/OPERA-S1/O...</td>\n",
       "      <td>https://datapool.asf.alaska.edu/RTC/OPERA-S1/O...</td>\n",
       "      <td>POLYGON ((-71.50921 -33.44409, -70.49742 -33.2...</td>\n",
       "      <td>19HBD</td>\n",
       "      <td>0</td>\n",
       "      <td>18</td>\n",
       "      <td>pre</td>\n",
       "      <td>0</td>\n",
       "    </tr>\n",
       "  </tbody>\n",
       "</table>\n",
       "</div>"
      ],
      "text/plain": [
       "                                            opera_id     jpl_burst_id  \\\n",
       "0  OPERA_L2_RTC-S1_T018-038454-IW2_20230609T23283...  T018-038454-IW2   \n",
       "1  OPERA_L2_RTC-S1_T018-038455-IW1_20230609T23283...  T018-038455-IW1   \n",
       "2  OPERA_L2_RTC-S1_T018-038455-IW2_20230609T23283...  T018-038455-IW2   \n",
       "3  OPERA_L2_RTC-S1_T018-038456-IW1_20230609T23283...  T018-038456-IW1   \n",
       "4  OPERA_L2_RTC-S1_T018-038456-IW2_20230609T23283...  T018-038456-IW2   \n",
       "\n",
       "                     acq_dt acq_date_for_mgrs_pass polarizations  \\\n",
       "0 2023-06-09 23:28:34+00:00             2023-06-09         VV+VH   \n",
       "1 2023-06-09 23:28:36+00:00             2023-06-09         VV+VH   \n",
       "2 2023-06-09 23:28:37+00:00             2023-06-09         VV+VH   \n",
       "3 2023-06-09 23:28:39+00:00             2023-06-09         VV+VH   \n",
       "4 2023-06-09 23:28:39+00:00             2023-06-09         VV+VH   \n",
       "\n",
       "   track_number  pass_id                                       url_crosspol  \\\n",
       "0            18      574  https://datapool.asf.alaska.edu/RTC/OPERA-S1/O...   \n",
       "1            18      574  https://datapool.asf.alaska.edu/RTC/OPERA-S1/O...   \n",
       "2            18      574  https://datapool.asf.alaska.edu/RTC/OPERA-S1/O...   \n",
       "3            18      574  https://datapool.asf.alaska.edu/RTC/OPERA-S1/O...   \n",
       "4            18      574  https://datapool.asf.alaska.edu/RTC/OPERA-S1/O...   \n",
       "\n",
       "                                           url_copol  \\\n",
       "0  https://datapool.asf.alaska.edu/RTC/OPERA-S1/O...   \n",
       "1  https://datapool.asf.alaska.edu/RTC/OPERA-S1/O...   \n",
       "2  https://datapool.asf.alaska.edu/RTC/OPERA-S1/O...   \n",
       "3  https://datapool.asf.alaska.edu/RTC/OPERA-S1/O...   \n",
       "4  https://datapool.asf.alaska.edu/RTC/OPERA-S1/O...   \n",
       "\n",
       "                                            geometry mgrs_tile_id  \\\n",
       "0  POLYGON ((-71.40068 -33.77205, -70.87841 -33.6...        19HBD   \n",
       "1  POLYGON ((-72.31721 -33.86836, -71.32987 -33.6...        19HBD   \n",
       "2  POLYGON ((-71.45452 -33.60789, -70.44304 -33.3...        19HBD   \n",
       "3  POLYGON ((-72.36948 -33.704, -71.85728 -33.586...        19HBD   \n",
       "4  POLYGON ((-71.50921 -33.44409, -70.49742 -33.2...        19HBD   \n",
       "\n",
       "   acq_group_id_within_mgrs_tile track_token input_category  product_id  \n",
       "0                              0          18            pre           0  \n",
       "1                              0          18            pre           0  \n",
       "2                              0          18            pre           0  \n",
       "3                              0          18            pre           0  \n",
       "4                              0          18            pre           0  "
      ]
     },
     "execution_count": 9,
     "metadata": {},
     "output_type": "execute_result"
    }
   ],
   "source": [
    "df_products = enumerate_dist_s1_products(df_ts, [MGRS_TILE_ID], lookback_strategy='multi_window')\n",
    "df_products.head()"
   ]
  },
  {
   "cell_type": "code",
   "execution_count": 10,
   "id": "407766e8-a9b6-4a8c-ada6-95cb088604cb",
   "metadata": {},
   "outputs": [
    {
     "data": {
      "text/plain": [
       "196"
      ]
     },
     "execution_count": 10,
     "metadata": {},
     "output_type": "execute_result"
    }
   ],
   "source": [
    "len(df_products.product_id.unique())"
   ]
  },
  {
   "cell_type": "code",
   "execution_count": 28,
   "id": "89f2c12d-6431-41f9-8247-f351f432be89",
   "metadata": {},
   "outputs": [],
   "source": [
    "df_dist_post = df_products[df_products['input_category'] == 'post'].reset_index(drop=True)\n",
    "df_dist_prod = df_dist_post.groupby(['product_id']).first().reset_index(drop=True)"
   ]
  },
  {
   "cell_type": "code",
   "execution_count": 30,
   "id": "f713b104-f19d-45ec-b00a-c159e5b3ba31",
   "metadata": {},
   "outputs": [
    {
     "data": {
      "text/plain": [
       "51"
      ]
     },
     "execution_count": 30,
     "metadata": {},
     "output_type": "execute_result"
    }
   ],
   "source": [
    "start_ind = df_dist_prod.acq_dt >= pd.Timestamp(START_TIME, tz='UTC')\n",
    "stop_ind = df_dist_prod.acq_dt <= pd.Timestamp(STOP_TIME, tz='UTC')\n",
    "\n",
    "df_dist_prod_temporal_subset = df_dist_prod[start_ind & stop_ind].reset_index(drop=True)\n",
    "len(df_dist_post_temporal_subset.product_id.unique())"
   ]
  },
  {
   "cell_type": "code",
   "execution_count": 35,
   "id": "56c4d667-4baf-4284-9d1c-0b5cbd3ff982",
   "metadata": {},
   "outputs": [
    {
     "data": {
      "text/plain": [
       "(51,\n",
       " [{'acq_date_for_mgrs_pass': '2024-04-28',\n",
       "   'track_number': 18,\n",
       "   'mgrs_tile_id': '19HBD'},\n",
       "  {'acq_date_for_mgrs_pass': '2024-04-16',\n",
       "   'track_number': 18,\n",
       "   'mgrs_tile_id': '19HBD'},\n",
       "  {'acq_date_for_mgrs_pass': '2024-04-04',\n",
       "   'track_number': 18,\n",
       "   'mgrs_tile_id': '19HBD'}])"
      ]
     },
     "execution_count": 35,
     "metadata": {},
     "output_type": "execute_result"
    }
   ],
   "source": [
    "df_dist_prod_data = df_dist_prod_temporal_subset.to_dict('records')\n",
    "def updater(data_dict: dict):\n",
    "    out = {}\n",
    "    out.update({key: val for (key, val) in data_dict.items() \n",
    "                if key in ['mgrs_tile_id', 'acq_date_for_mgrs_pass', 'track_number', 'product_id']})\n",
    "    return out\n",
    "all_inputs = list(map(updater, df_dist_prod_data))\n",
    "len(all_inputs), all_inputs[:3]"
   ]
  },
  {
   "cell_type": "markdown",
   "id": "b97395d9-1da4-43ba-9bc6-f61e0b80fb2f",
   "metadata": {},
   "source": [
    "# DIST-S1 Product Generation (No Confirmation)"
   ]
  },
  {
   "cell_type": "code",
   "execution_count": 56,
   "id": "2b1ae539-3b86-42df-8adb-e7c246cd5076",
   "metadata": {},
   "outputs": [],
   "source": [
    "time_series_dir = Path(f'time_series/{EVENT_ID}')\n",
    "\n",
    "input_data_dir = time_series_dir / 'input_data'\n",
    "input_data_dir.mkdir(exist_ok=True, parents=True)\n",
    "\n",
    "scratch_dir = time_series_dir / 'scratch_dir'\n",
    "scratch_dir.mkdir(exist_ok=True, parents=True)\n",
    "\n",
    "product_dir_no_confirmation = time_series_dir / 'product_dir'\n",
    "product_dir_no_confirmation.mkdir(exist_ok=True, parents=True)"
   ]
  },
  {
   "cell_type": "code",
   "execution_count": 54,
   "id": "7c46efca-507e-4312-80a5-666bfd31526f",
   "metadata": {},
   "outputs": [],
   "source": [
    "for input_data in tqdm(all_inputs[10:], desc='Generating Products without Confirmation'):\n",
    "    run_dist_s1_workflow(mgrs_tile_id=input_data['mgrs_tile_id'],\n",
    "                         post_date=input_data['acq_date_for_mgrs_pass'], \n",
    "                         track_number=input_data['track_number'],\n",
    "                         memory_strategy='high',\n",
    "                         input_data_dir=input_data_dir, \n",
    "                         dst_dir=scratch_dir,\n",
    "                         product_dst_dir=product_dir_no_confirmation)"
   ]
  },
  {
   "cell_type": "markdown",
   "id": "81ee2fd1-3fac-4580-ba0c-e8b947fdc82b",
   "metadata": {},
   "source": [
    "# Confirmation"
   ]
  },
  {
   "cell_type": "code",
   "execution_count": 71,
   "id": "1bd86eac-7f34-42fe-8916-a2419cc44075",
   "metadata": {},
   "outputs": [],
   "source": [
    "confirmed_product_dir = time_series_dir / 'confirmed_product_dir'\n",
    "confirmed_product_dir.mkdir(exist_ok=True, parents=True)"
   ]
  },
  {
   "cell_type": "code",
   "execution_count": 73,
   "id": "4efa83ac-9497-46cf-bc97-69c52f831a72",
   "metadata": {},
   "outputs": [],
   "source": [
    "run_sequential_confirmation_of_dist_products_workflow(product_dir_no_confirmation,\n",
    "                                                      confirmed_product_dir)"
   ]
  }
 ],
 "metadata": {
  "kernelspec": {
   "display_name": "dist-s1-env",
   "language": "python",
   "name": "dist-s1-env"
  },
  "language_info": {
   "codemirror_mode": {
    "name": "ipython",
    "version": 3
   },
   "file_extension": ".py",
   "mimetype": "text/x-python",
   "name": "python",
   "nbconvert_exporter": "python",
   "pygments_lexer": "ipython3",
   "version": "3.13.3"
  }
 },
 "nbformat": 4,
 "nbformat_minor": 5
}
