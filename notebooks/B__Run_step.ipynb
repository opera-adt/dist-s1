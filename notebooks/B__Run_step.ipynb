{
 "cells": [
  {
   "cell_type": "code",
   "execution_count": 1,
   "id": "f563951a-d1b7-4e75-99f2-56be204cbc08",
   "metadata": {},
   "outputs": [],
   "source": [
    "%load_ext autoreload\n",
    "%autoreload 2"
   ]
  },
  {
   "cell_type": "markdown",
   "id": "ff402f6b-df30-4f99-8742-1881c7e2e6b9",
   "metadata": {},
   "source": [
    "This is a notebook that illustrates how to run the end-to-end (e2e) workflow. Determining suitable parameters for the workflow are for operational considerations are explained in the ops library [`dist-s1-enumerator`](https://github.com/opera-adt/dist-s1-enumerator) - specifically, see this [notebook](https://github.com/opera-adt/dist-s1-enumerator/blob/dev/notebooks/A__Staging_Inputs_for_One_MGRS_Tile.ipynb)."
   ]
  },
  {
   "cell_type": "code",
   "execution_count": 2,
   "id": "91fb3320-c91c-465c-9ac3-926076e413e6",
   "metadata": {},
   "outputs": [],
   "source": [
    "from pathlib import Path\n",
    "\n",
    "from dist_s1.workflows import (\n",
    "    run_burst_disturbance_workflow,\n",
    "    run_dist_s1_localization_workflow,\n",
    "    run_dist_s1_workflow,\n",
    "    run_disturbance_merge_workflow\n",
    ")"
   ]
  },
  {
   "cell_type": "code",
   "execution_count": 3,
   "id": "7ce1f145-b58c-4982-b256-6a56b552d4cc",
   "metadata": {},
   "outputs": [],
   "source": [
    "mgrs_tile_id = \"10SGD\"\n",
    "post_date = \"2025-01-02\"\n",
    "track_number = 137\n",
    "dst_dir = Path(\"out\")\n",
    "memory_strategy = \"high\""
   ]
  },
  {
   "cell_type": "markdown",
   "id": "88f264fe-f74c-4d3f-b492-27902eaed32e",
   "metadata": {},
   "source": [
    "This takes some time as it not only generates the runconfig but also localizes the necessary data. It will not overwrite files that have been previously downloaded.\n",
    "\n",
    "Few additional notes:\n",
    "\n",
    "1. The runconfig can be serialized to yml and then read from that file.\n",
    "2. The runconfig manages all the paths for the workflows from the initial set of inputs. It's data model is messy and can be confusing. But that's the workhorse of this library."
   ]
  },
  {
   "cell_type": "code",
   "execution_count": 4,
   "id": "d7ee7ad2-b297-41af-bc65-e41cf40dab1e",
   "metadata": {},
   "outputs": [
    {
     "data": {
      "application/vnd.jupyter.widget-view+json": {
       "model_id": "100ac5512126474590ca0beec27e66a7",
       "version_major": 2,
       "version_minor": 0
      },
      "text/plain": [
       "Downloading RTC-S1 burst data:   0%|                   | 0/390 [00:00<?, ?it/s]"
      ]
     },
     "metadata": {},
     "output_type": "display_data"
    }
   ],
   "source": [
    "run_config = run_dist_s1_localization_workflow(\n",
    "    mgrs_tile_id,\n",
    "    post_date,\n",
    "    track_number,\n",
    "    1,\n",
    "    dst_dir=dst_dir,\n",
    "    input_data_dir=dst_dir,\n",
    ")"
   ]
  },
  {
   "cell_type": "code",
   "execution_count": 10,
   "id": "0a255865-caa4-4958-92b4-2d439d8cadac",
   "metadata": {},
   "outputs": [],
   "source": [
    "# run_burst_disturbance_workflow(run_config)\n",
    "run_disturbance_merge_workflow(run_config)"
   ]
  },
  {
   "cell_type": "code",
   "execution_count": null,
   "id": "8f043cb6-5bea-48fd-81bf-ba335ebdc739",
   "metadata": {},
   "outputs": [],
   "source": []
  }
 ],
 "metadata": {
  "kernelspec": {
   "display_name": "dist-s1-env",
   "language": "python",
   "name": "dist-s1-env"
  },
  "language_info": {
   "codemirror_mode": {
    "name": "ipython",
    "version": 3
   },
   "file_extension": ".py",
   "mimetype": "text/x-python",
   "name": "python",
   "nbconvert_exporter": "python",
   "pygments_lexer": "ipython3",
   "version": "3.13.1"
  }
 },
 "nbformat": 4,
 "nbformat_minor": 5
}
