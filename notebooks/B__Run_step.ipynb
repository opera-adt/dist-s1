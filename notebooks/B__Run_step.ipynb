{
 "cells": [
  {
   "cell_type": "code",
   "execution_count": 1,
   "id": "f563951a-d1b7-4e75-99f2-56be204cbc08",
   "metadata": {},
   "outputs": [],
   "source": [
    "%load_ext autoreload\n",
    "%autoreload 2"
   ]
  },
  {
   "cell_type": "markdown",
   "id": "ff402f6b-df30-4f99-8742-1881c7e2e6b9",
   "metadata": {},
   "source": [
    "This is a notebook that illustrates how to run the end-to-end (e2e) workflow. Determining suitable parameters for the workflow are for operational considerations are explained in the ops library [`dist-s1-enumerator`](https://github.com/opera-adt/dist-s1-enumerator) - specifically, see this [notebook](https://github.com/opera-adt/dist-s1-enumerator/blob/dev/notebooks/A__Staging_Inputs_for_One_MGRS_Tile.ipynb)."
   ]
  },
  {
   "cell_type": "code",
   "execution_count": 2,
   "id": "91fb3320-c91c-465c-9ac3-926076e413e6",
   "metadata": {},
   "outputs": [],
   "source": [
    "from dist_s1 import run_dist_s1_workflow, run_dist_s1_localization_workflow, run_burst_disturbance_workflow\n",
    "from pathlib import Path"
   ]
  },
  {
   "cell_type": "code",
   "execution_count": 3,
   "id": "7ce1f145-b58c-4982-b256-6a56b552d4cc",
   "metadata": {},
   "outputs": [],
   "source": [
    "mgrs_tile_id = '10SGD'\n",
    "post_date = '2025-01-02'\n",
    "track_number = 137\n",
    "dst_dir = Path('out')\n",
    "memory_strategy = 'high'"
   ]
  },
  {
   "cell_type": "code",
   "execution_count": 4,
   "id": "d7ee7ad2-b297-41af-bc65-e41cf40dab1e",
   "metadata": {},
   "outputs": [
    {
     "data": {
      "application/vnd.jupyter.widget-view+json": {
       "model_id": "1f567b3b6cfe4ea7be4a2dbbd6c3e676",
       "version_major": 2,
       "version_minor": 0
      },
      "text/plain": [
       "Downloading RTC-S1 burst data:   0%|                      | 0/390 [00:00<?, ?it/s]"
      ]
     },
     "metadata": {},
     "output_type": "display_data"
    }
   ],
   "source": [
    "run_config = run_dist_s1_localization_workflow(\n",
    "    mgrs_tile_id,\n",
    "    post_date,\n",
    "    track_number,\n",
    "    1,\n",
    "    dst_dir=dst_dir,\n",
    "    input_data_dir=dst_dir,\n",
    ")"
   ]
  },
  {
   "cell_type": "code",
   "execution_count": 5,
   "id": "0a255865-caa4-4958-92b4-2d439d8cadac",
   "metadata": {},
   "outputs": [
    {
     "name": "stderr",
     "output_type": "stream",
     "text": [
      "/u/aurora-r0/cmarshak/dist-s1/src/dist_s1/data_models/runconfig_model.py:290: FutureWarning: The provided callable <built-in function max> is currently using np.maximum.reduce. In a future version of pandas, the provided callable will be used directly. To keep current behavior pass the string np.maximum.reduce instead.\n",
      "  df_date = df_inputs.groupby('jpl_burst_id')['acq_dt'].apply(max).reset_index(drop=False)\n"
     ]
    },
    {
     "data": {
      "application/vnd.jupyter.widget-view+json": {
       "model_id": "f7a2461a23bf4595863bce88fb80b6fb",
       "version_major": 2,
       "version_minor": 0
      },
      "text/plain": [
       "Burst disturbance:   0%|          | 0/15 [00:00<?, ?it/s]"
      ]
     },
     "metadata": {},
     "output_type": "display_data"
    },
    {
     "data": {
      "application/vnd.jupyter.widget-view+json": {
       "model_id": "f4d53cbec2ba41a1a2ab837f229015b1",
       "version_major": 2,
       "version_minor": 0
      },
      "text/plain": [
       "Lookbacks:   0%|          | 0/3 [00:00<?, ?it/s]"
      ]
     },
     "metadata": {},
     "output_type": "display_data"
    },
    {
     "name": "stderr",
     "output_type": "stream",
     "text": [
      "/u/aurora-r0/cmarshak/dist-s1/src/dist_s1/processing.py:173: RuntimeWarning: All-NaN slice encountered\n",
      "  np.nanmax(np.stack([mdist_copol, mdist_crosspol], axis=0), axis=0)\n",
      "/u/aurora-r0/cmarshak/dist-s1/src/dist_s1/processing.py:115: RuntimeWarning: All-NaN slice encountered\n",
      "  X_dist_max = np.nanmax(disturbance_stack, axis=0)\n"
     ]
    },
    {
     "name": "stdout",
     "output_type": "stream",
     "text": [
      "disturbance_paths [PosixPath('out/disturbance/Delta_0/disturb_T137-292318-IW1_2025-01-02_delta0.tif'), PosixPath('out/disturbance/Delta_1/disturb_T137-292318-IW1_2024-05-19_delta1.tif'), PosixPath('out/disturbance/Delta_2/disturb_T137-292318-IW1_2024-05-07_delta2.tif')]\n"
     ]
    },
    {
     "data": {
      "application/vnd.jupyter.widget-view+json": {
       "model_id": "6c1e75ffbbaa463c944575d08e94c943",
       "version_major": 2,
       "version_minor": 0
      },
      "text/plain": [
       "Lookbacks:   0%|          | 0/3 [00:00<?, ?it/s]"
      ]
     },
     "metadata": {},
     "output_type": "display_data"
    },
    {
     "name": "stdout",
     "output_type": "stream",
     "text": [
      "disturbance_paths [PosixPath('out/disturbance/Delta_0/disturb_T137-292318-IW2_2025-01-02_delta0.tif'), PosixPath('out/disturbance/Delta_1/disturb_T137-292318-IW2_2024-05-19_delta1.tif'), PosixPath('out/disturbance/Delta_2/disturb_T137-292318-IW2_2024-05-07_delta2.tif')]\n"
     ]
    },
    {
     "data": {
      "application/vnd.jupyter.widget-view+json": {
       "model_id": "bc8f1446244340e5877cdc47bf901541",
       "version_major": 2,
       "version_minor": 0
      },
      "text/plain": [
       "Lookbacks:   0%|          | 0/3 [00:00<?, ?it/s]"
      ]
     },
     "metadata": {},
     "output_type": "display_data"
    },
    {
     "name": "stdout",
     "output_type": "stream",
     "text": [
      "disturbance_paths [PosixPath('out/disturbance/Delta_0/disturb_T137-292319-IW1_2025-01-02_delta0.tif'), PosixPath('out/disturbance/Delta_1/disturb_T137-292319-IW1_2024-05-19_delta1.tif'), PosixPath('out/disturbance/Delta_2/disturb_T137-292319-IW1_2024-05-07_delta2.tif')]\n"
     ]
    },
    {
     "data": {
      "application/vnd.jupyter.widget-view+json": {
       "model_id": "d73ed6278b4348e2932379a9e3dcbeaa",
       "version_major": 2,
       "version_minor": 0
      },
      "text/plain": [
       "Lookbacks:   0%|          | 0/3 [00:00<?, ?it/s]"
      ]
     },
     "metadata": {},
     "output_type": "display_data"
    },
    {
     "name": "stdout",
     "output_type": "stream",
     "text": [
      "disturbance_paths [PosixPath('out/disturbance/Delta_0/disturb_T137-292319-IW2_2025-01-02_delta0.tif'), PosixPath('out/disturbance/Delta_1/disturb_T137-292319-IW2_2024-05-19_delta1.tif'), PosixPath('out/disturbance/Delta_2/disturb_T137-292319-IW2_2024-05-07_delta2.tif')]\n"
     ]
    },
    {
     "data": {
      "application/vnd.jupyter.widget-view+json": {
       "model_id": "d814bcb0f16e45e7b0416fc13e0ba197",
       "version_major": 2,
       "version_minor": 0
      },
      "text/plain": [
       "Lookbacks:   0%|          | 0/3 [00:00<?, ?it/s]"
      ]
     },
     "metadata": {},
     "output_type": "display_data"
    },
    {
     "name": "stdout",
     "output_type": "stream",
     "text": [
      "disturbance_paths [PosixPath('out/disturbance/Delta_0/disturb_T137-292320-IW1_2025-01-02_delta0.tif'), PosixPath('out/disturbance/Delta_1/disturb_T137-292320-IW1_2024-05-19_delta1.tif'), PosixPath('out/disturbance/Delta_2/disturb_T137-292320-IW1_2024-05-07_delta2.tif')]\n"
     ]
    },
    {
     "data": {
      "application/vnd.jupyter.widget-view+json": {
       "model_id": "d58e9956abda4fbda078e94c948fa4fe",
       "version_major": 2,
       "version_minor": 0
      },
      "text/plain": [
       "Lookbacks:   0%|          | 0/3 [00:00<?, ?it/s]"
      ]
     },
     "metadata": {},
     "output_type": "display_data"
    },
    {
     "name": "stdout",
     "output_type": "stream",
     "text": [
      "disturbance_paths [PosixPath('out/disturbance/Delta_0/disturb_T137-292320-IW2_2025-01-02_delta0.tif'), PosixPath('out/disturbance/Delta_1/disturb_T137-292320-IW2_2024-05-19_delta1.tif'), PosixPath('out/disturbance/Delta_2/disturb_T137-292320-IW2_2024-05-07_delta2.tif')]\n"
     ]
    },
    {
     "data": {
      "application/vnd.jupyter.widget-view+json": {
       "model_id": "f6995b5e6fb6422c8fdf5148147b10aa",
       "version_major": 2,
       "version_minor": 0
      },
      "text/plain": [
       "Lookbacks:   0%|          | 0/3 [00:00<?, ?it/s]"
      ]
     },
     "metadata": {},
     "output_type": "display_data"
    },
    {
     "name": "stdout",
     "output_type": "stream",
     "text": [
      "disturbance_paths [PosixPath('out/disturbance/Delta_0/disturb_T137-292321-IW1_2025-01-02_delta0.tif'), PosixPath('out/disturbance/Delta_1/disturb_T137-292321-IW1_2024-05-19_delta1.tif'), PosixPath('out/disturbance/Delta_2/disturb_T137-292321-IW1_2024-05-07_delta2.tif')]\n"
     ]
    },
    {
     "data": {
      "application/vnd.jupyter.widget-view+json": {
       "model_id": "37ceba5ed92d4a0281e5609150ddc24b",
       "version_major": 2,
       "version_minor": 0
      },
      "text/plain": [
       "Lookbacks:   0%|          | 0/3 [00:00<?, ?it/s]"
      ]
     },
     "metadata": {},
     "output_type": "display_data"
    },
    {
     "name": "stdout",
     "output_type": "stream",
     "text": [
      "disturbance_paths [PosixPath('out/disturbance/Delta_0/disturb_T137-292321-IW2_2025-01-02_delta0.tif'), PosixPath('out/disturbance/Delta_1/disturb_T137-292321-IW2_2024-05-19_delta1.tif'), PosixPath('out/disturbance/Delta_2/disturb_T137-292321-IW2_2024-05-07_delta2.tif')]\n"
     ]
    },
    {
     "data": {
      "application/vnd.jupyter.widget-view+json": {
       "model_id": "0cfb2e433d674782952b9453c77224cf",
       "version_major": 2,
       "version_minor": 0
      },
      "text/plain": [
       "Lookbacks:   0%|          | 0/3 [00:00<?, ?it/s]"
      ]
     },
     "metadata": {},
     "output_type": "display_data"
    },
    {
     "name": "stdout",
     "output_type": "stream",
     "text": [
      "disturbance_paths [PosixPath('out/disturbance/Delta_0/disturb_T137-292322-IW1_2025-01-02_delta0.tif'), PosixPath('out/disturbance/Delta_1/disturb_T137-292322-IW1_2024-05-19_delta1.tif'), PosixPath('out/disturbance/Delta_2/disturb_T137-292322-IW1_2024-05-07_delta2.tif')]\n"
     ]
    },
    {
     "data": {
      "application/vnd.jupyter.widget-view+json": {
       "model_id": "5295a2fc4d9c47f08c4a00cb5ffe993e",
       "version_major": 2,
       "version_minor": 0
      },
      "text/plain": [
       "Lookbacks:   0%|          | 0/3 [00:00<?, ?it/s]"
      ]
     },
     "metadata": {},
     "output_type": "display_data"
    },
    {
     "name": "stdout",
     "output_type": "stream",
     "text": [
      "disturbance_paths [PosixPath('out/disturbance/Delta_0/disturb_T137-292322-IW2_2025-01-02_delta0.tif'), PosixPath('out/disturbance/Delta_1/disturb_T137-292322-IW2_2024-05-19_delta1.tif'), PosixPath('out/disturbance/Delta_2/disturb_T137-292322-IW2_2024-05-07_delta2.tif')]\n"
     ]
    },
    {
     "data": {
      "application/vnd.jupyter.widget-view+json": {
       "model_id": "78c64e1de90d4995b84ba5593057c713",
       "version_major": 2,
       "version_minor": 0
      },
      "text/plain": [
       "Lookbacks:   0%|          | 0/3 [00:00<?, ?it/s]"
      ]
     },
     "metadata": {},
     "output_type": "display_data"
    },
    {
     "name": "stdout",
     "output_type": "stream",
     "text": [
      "disturbance_paths [PosixPath('out/disturbance/Delta_0/disturb_T137-292323-IW1_2025-01-02_delta0.tif'), PosixPath('out/disturbance/Delta_1/disturb_T137-292323-IW1_2024-05-19_delta1.tif'), PosixPath('out/disturbance/Delta_2/disturb_T137-292323-IW1_2024-05-07_delta2.tif')]\n"
     ]
    },
    {
     "data": {
      "application/vnd.jupyter.widget-view+json": {
       "model_id": "d93a104378b242b19ed10fdb82d38cb3",
       "version_major": 2,
       "version_minor": 0
      },
      "text/plain": [
       "Lookbacks:   0%|          | 0/3 [00:00<?, ?it/s]"
      ]
     },
     "metadata": {},
     "output_type": "display_data"
    },
    {
     "name": "stdout",
     "output_type": "stream",
     "text": [
      "disturbance_paths [PosixPath('out/disturbance/Delta_0/disturb_T137-292323-IW2_2025-01-02_delta0.tif'), PosixPath('out/disturbance/Delta_1/disturb_T137-292323-IW2_2024-05-19_delta1.tif'), PosixPath('out/disturbance/Delta_2/disturb_T137-292323-IW2_2024-05-07_delta2.tif')]\n"
     ]
    },
    {
     "data": {
      "application/vnd.jupyter.widget-view+json": {
       "model_id": "fb62231a40184aaca3213701b74c3b89",
       "version_major": 2,
       "version_minor": 0
      },
      "text/plain": [
       "Lookbacks:   0%|          | 0/3 [00:00<?, ?it/s]"
      ]
     },
     "metadata": {},
     "output_type": "display_data"
    },
    {
     "name": "stdout",
     "output_type": "stream",
     "text": [
      "disturbance_paths [PosixPath('out/disturbance/Delta_0/disturb_T137-292324-IW1_2025-01-02_delta0.tif'), PosixPath('out/disturbance/Delta_1/disturb_T137-292324-IW1_2024-05-19_delta1.tif'), PosixPath('out/disturbance/Delta_2/disturb_T137-292324-IW1_2024-05-07_delta2.tif')]\n"
     ]
    },
    {
     "data": {
      "application/vnd.jupyter.widget-view+json": {
       "model_id": "51dec06079df47b6ba604eabc086c378",
       "version_major": 2,
       "version_minor": 0
      },
      "text/plain": [
       "Lookbacks:   0%|          | 0/3 [00:00<?, ?it/s]"
      ]
     },
     "metadata": {},
     "output_type": "display_data"
    },
    {
     "name": "stdout",
     "output_type": "stream",
     "text": [
      "disturbance_paths [PosixPath('out/disturbance/Delta_0/disturb_T137-292324-IW2_2025-01-02_delta0.tif'), PosixPath('out/disturbance/Delta_1/disturb_T137-292324-IW2_2024-05-19_delta1.tif'), PosixPath('out/disturbance/Delta_2/disturb_T137-292324-IW2_2024-05-07_delta2.tif')]\n"
     ]
    },
    {
     "data": {
      "application/vnd.jupyter.widget-view+json": {
       "model_id": "ea7b6ae317994534ae409ef566bc5b1c",
       "version_major": 2,
       "version_minor": 0
      },
      "text/plain": [
       "Lookbacks:   0%|          | 0/3 [00:00<?, ?it/s]"
      ]
     },
     "metadata": {},
     "output_type": "display_data"
    },
    {
     "name": "stdout",
     "output_type": "stream",
     "text": [
      "disturbance_paths [PosixPath('out/disturbance/Delta_0/disturb_T137-292325-IW1_2025-01-02_delta0.tif'), PosixPath('out/disturbance/Delta_1/disturb_T137-292325-IW1_2024-05-19_delta1.tif'), PosixPath('out/disturbance/Delta_2/disturb_T137-292325-IW1_2024-05-07_delta2.tif')]\n"
     ]
    }
   ],
   "source": [
    "run_burst_disturbance_workflow(run_config)"
   ]
  },
  {
   "cell_type": "code",
   "execution_count": null,
   "id": "33f74e7e-0ac9-4d21-82ac-e4b010442734",
   "metadata": {},
   "outputs": [],
   "source": []
  }
 ],
 "metadata": {
  "kernelspec": {
   "display_name": "dist-s1-env",
   "language": "python",
   "name": "dist-s1-env"
  },
  "language_info": {
   "codemirror_mode": {
    "name": "ipython",
    "version": 3
   },
   "file_extension": ".py",
   "mimetype": "text/x-python",
   "name": "python",
   "nbconvert_exporter": "python",
   "pygments_lexer": "ipython3",
   "version": "3.13.1"
  }
 },
 "nbformat": 4,
 "nbformat_minor": 5
}
