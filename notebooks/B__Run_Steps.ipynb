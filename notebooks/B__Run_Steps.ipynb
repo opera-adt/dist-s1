{
 "cells": [
  {
   "cell_type": "code",
   "execution_count": 12,
   "id": "f563951a-d1b7-4e75-99f2-56be204cbc08",
   "metadata": {},
   "outputs": [
    {
     "name": "stdout",
     "output_type": "stream",
     "text": [
      "The autoreload extension is already loaded. To reload it, use:\n",
      "  %reload_ext autoreload\n"
     ]
    }
   ],
   "source": [
    "%load_ext autoreload\n",
    "%autoreload 2"
   ]
  },
  {
   "cell_type": "markdown",
   "id": "ff402f6b-df30-4f99-8742-1881c7e2e6b9",
   "metadata": {},
   "source": [
    "This is a notebook that illustrates how to run the end-to-end (e2e) workflow. Determining suitable parameters for the workflow are for operational considerations are explained in the ops library [`dist-s1-enumerator`](https://github.com/opera-adt/dist-s1-enumerator) - specifically, see this [notebook](https://github.com/opera-adt/dist-s1-enumerator/blob/dev/notebooks/A__Staging_Inputs_for_One_MGRS_Tile.ipynb)."
   ]
  },
  {
   "cell_type": "code",
   "execution_count": 13,
   "id": "91fb3320-c91c-465c-9ac3-926076e413e6",
   "metadata": {},
   "outputs": [],
   "source": [
    "from pathlib import Path\n",
    "\n",
    "from dist_s1.workflows import (\n",
    "    run_burst_disturbance_workflow,\n",
    "    run_dist_s1_localization_workflow,\n",
    "    run_dist_s1_workflow,\n",
    "    run_disturbance_merge_workflow,\n",
    "    run_dist_s1_packaging_workflow,\n",
    "    run_despeckle_workflow\n",
    ")"
   ]
  },
  {
   "cell_type": "code",
   "execution_count": 14,
   "id": "7ce1f145-b58c-4982-b256-6a56b552d4cc",
   "metadata": {},
   "outputs": [],
   "source": [
    "## Example 0\n",
    "\n",
    "# mgrs_tile_id = '10SGD'\n",
    "# post_date = '2025-01-02'\n",
    "# track_number = 137\n",
    "# dst_dir = Path('out')\n",
    "# memory_strategy = 'high'\n",
    "\n",
    "\n",
    "## Example 1 - Los Angeles Wildfire\n",
    "mgrs_tile_id = '11SLT'\n",
    "post_date = '2025-01-21'\n",
    "track_number = 71\n",
    "dst_dir = Path('los-angeles')\n",
    "memory_strategy = 'high'\n",
    "confirmation = False\n",
    "interpolation_method='bilinear'"
   ]
  },
  {
   "cell_type": "markdown",
   "id": "88f264fe-f74c-4d3f-b492-27902eaed32e",
   "metadata": {},
   "source": [
    "This takes some time as it not only generates the runconfig but also localizes the necessary data. It will not overwrite files that have been previously downloaded.\n",
    "\n",
    "Few additional notes:\n",
    "\n",
    "1. The runconfig can be serialized to yml and then read from that file.\n",
    "2. The runconfig manages all the paths for the workflows from the initial set of inputs. It's data model is messy and can be confusing. But that's the workhorse of this library."
   ]
  },
  {
   "cell_type": "code",
   "execution_count": 15,
   "id": "d7ee7ad2-b297-41af-bc65-e41cf40dab1e",
   "metadata": {},
   "outputs": [
    {
     "name": "stdout",
     "output_type": "stream",
     "text": [
      "Using multi-window lookback strategy\n"
     ]
    },
    {
     "name": "stderr",
     "output_type": "stream",
     "text": [
      "Downloading RTC-S1 burst data: 100%|█| 352/352 [00:00<00:00,\n",
      "/Users/cmarshak/bekaert-team/dist-s1/src/dist_s1/data_models/runconfig_model.py:650: UserWarning: CUDA and mps do not support multiprocessing; setting n_workers_for_norm_param_estimation to 1\n"
     ]
    }
   ],
   "source": [
    "run_config = run_dist_s1_localization_workflow(\n",
    "    mgrs_tile_id,\n",
    "    post_date,\n",
    "    track_number,\n",
    "    post_date_buffer_days=1,\n",
    "    dst_dir=dst_dir,\n",
    "    input_data_dir=dst_dir,\n",
    "    confirmation=confirmation,\n",
    "    interpolation_method='bilinear',\n",
    ")\n"
   ]
  },
  {
   "cell_type": "code",
   "execution_count": 20,
   "id": "aba7a465-fb7d-4804-ae1b-777724fe3b39",
   "metadata": {},
   "outputs": [
    {
     "ename": "ValidationError",
     "evalue": "1 validation error for RunConfigData\n  Value error, prior_dist_s1_product must be provided when confirmation is True [type=value_error, input_value=RunConfigData(device='mps..., algo_config_path=None), input_type=RunConfigData]\n    For further information visit https://errors.pydantic.dev/2.11/v/value_error",
     "output_type": "error",
     "traceback": [
      "\u001b[31m---------------------------------------------------------------------------\u001b[39m",
      "\u001b[31mValidationError\u001b[39m                           Traceback (most recent call last)",
      "\u001b[36mCell\u001b[39m\u001b[36m \u001b[39m\u001b[32mIn[20]\u001b[39m\u001b[32m, line 1\u001b[39m\n\u001b[32m----> \u001b[39m\u001b[32m1\u001b[39m \u001b[43mrun_config\u001b[49m\u001b[43m.\u001b[49m\u001b[43mconfirmation\u001b[49m = \u001b[38;5;28;01mTrue\u001b[39;00m\n",
      "\u001b[36mFile \u001b[39m\u001b[32m~/miniforge3/envs/dist-s1-env/lib/python3.13/site-packages/pydantic/main.py:996\u001b[39m, in \u001b[36mBaseModel.__setattr__\u001b[39m\u001b[34m(self, name, value)\u001b[39m\n\u001b[32m    994\u001b[39m \u001b[38;5;66;03m# if None is returned from _setattr_handler, the attribute was set directly\u001b[39;00m\n\u001b[32m    995\u001b[39m \u001b[38;5;28;01melif\u001b[39;00m (setattr_handler := \u001b[38;5;28mself\u001b[39m._setattr_handler(name, value)) \u001b[38;5;129;01mis\u001b[39;00m \u001b[38;5;129;01mnot\u001b[39;00m \u001b[38;5;28;01mNone\u001b[39;00m:\n\u001b[32m--> \u001b[39m\u001b[32m996\u001b[39m     \u001b[43msetattr_handler\u001b[49m\u001b[43m(\u001b[49m\u001b[38;5;28;43mself\u001b[39;49m\u001b[43m,\u001b[49m\u001b[43m \u001b[49m\u001b[43mname\u001b[49m\u001b[43m,\u001b[49m\u001b[43m \u001b[49m\u001b[43mvalue\u001b[49m\u001b[43m)\u001b[49m  \u001b[38;5;66;03m# call here to not memo on possibly unknown fields\u001b[39;00m\n\u001b[32m    997\u001b[39m     \u001b[38;5;28mself\u001b[39m.__pydantic_setattr_handlers__[name] = setattr_handler\n",
      "\u001b[36mFile \u001b[39m\u001b[32m~/miniforge3/envs/dist-s1-env/lib/python3.13/site-packages/pydantic/main.py:114\u001b[39m, in \u001b[36m<lambda>\u001b[39m\u001b[34m(model, name, val)\u001b[39m\n\u001b[32m    108\u001b[39m         \u001b[38;5;28mobject\u001b[39m.\u001b[34m__setattr__\u001b[39m(model, \u001b[33m'\u001b[39m\u001b[33m__pydantic_private__\u001b[39m\u001b[33m'\u001b[39m, {})\n\u001b[32m    109\u001b[39m     model.__pydantic_private__[name] = val  \u001b[38;5;66;03m# pyright: ignore[reportOptionalSubscript]\u001b[39;00m\n\u001b[32m    112\u001b[39m _SIMPLE_SETATTR_HANDLERS: Mapping[\u001b[38;5;28mstr\u001b[39m, Callable[[BaseModel, \u001b[38;5;28mstr\u001b[39m, Any], \u001b[38;5;28;01mNone\u001b[39;00m]] = {\n\u001b[32m    113\u001b[39m     \u001b[33m'\u001b[39m\u001b[33mmodel_field\u001b[39m\u001b[33m'\u001b[39m: _model_field_setattr_handler,\n\u001b[32m--> \u001b[39m\u001b[32m114\u001b[39m     \u001b[33m'\u001b[39m\u001b[33mvalidate_assignment\u001b[39m\u001b[33m'\u001b[39m: \u001b[38;5;28;01mlambda\u001b[39;00m model, name, val: \u001b[43mmodel\u001b[49m\u001b[43m.\u001b[49m\u001b[43m__pydantic_validator__\u001b[49m\u001b[43m.\u001b[49m\u001b[43mvalidate_assignment\u001b[49m\u001b[43m(\u001b[49m\u001b[43mmodel\u001b[49m\u001b[43m,\u001b[49m\u001b[43m \u001b[49m\u001b[43mname\u001b[49m\u001b[43m,\u001b[49m\u001b[43m \u001b[49m\u001b[43mval\u001b[49m\u001b[43m)\u001b[49m,  \u001b[38;5;66;03m# pyright: ignore[reportAssignmentType]\u001b[39;00m\n\u001b[32m    115\u001b[39m     \u001b[33m'\u001b[39m\u001b[33mprivate\u001b[39m\u001b[33m'\u001b[39m: _private_setattr_handler,\n\u001b[32m    116\u001b[39m     \u001b[33m'\u001b[39m\u001b[33mcached_property\u001b[39m\u001b[33m'\u001b[39m: \u001b[38;5;28;01mlambda\u001b[39;00m model, name, val: model.\u001b[34m__dict__\u001b[39m.\u001b[34m__setitem__\u001b[39m(name, val),\n\u001b[32m    117\u001b[39m     \u001b[33m'\u001b[39m\u001b[33mextra_known\u001b[39m\u001b[33m'\u001b[39m: \u001b[38;5;28;01mlambda\u001b[39;00m model, name, val: _object_setattr(model, name, val),\n\u001b[32m    118\u001b[39m }\n\u001b[32m    121\u001b[39m \u001b[38;5;28;01mclass\u001b[39;00m\u001b[38;5;250m \u001b[39m\u001b[34;01mBaseModel\u001b[39;00m(metaclass=_model_construction.ModelMetaclass):\n\u001b[32m    122\u001b[39m \u001b[38;5;250m    \u001b[39m\u001b[33;03m\"\"\"!!! abstract \"Usage Documentation\"\u001b[39;00m\n\u001b[32m    123\u001b[39m \u001b[33;03m        [Models](../concepts/models.md)\u001b[39;00m\n\u001b[32m    124\u001b[39m \n\u001b[32m   (...)\u001b[39m\u001b[32m    151\u001b[39m \u001b[33;03m        __pydantic_private__: Values of private attributes set on the model instance.\u001b[39;00m\n\u001b[32m    152\u001b[39m \u001b[33;03m    \"\"\"\u001b[39;00m\n",
      "\u001b[31mValidationError\u001b[39m: 1 validation error for RunConfigData\n  Value error, prior_dist_s1_product must be provided when confirmation is True [type=value_error, input_value=RunConfigData(device='mps..., algo_config_path=None), input_type=RunConfigData]\n    For further information visit https://errors.pydantic.dev/2.11/v/value_error"
     ]
    }
   ],
   "source": [
    "run_config.confirmation = True"
   ]
  },
  {
   "cell_type": "code",
   "execution_count": 17,
   "id": "c4c23158-38d1-4507-aedd-d0b5d4acc91e",
   "metadata": {},
   "outputs": [
    {
     "ename": "ValidationError",
     "evalue": "1 validation error for RunConfigData\nprior_dist_s1_product\n  Input should be a valid dictionary or instance of ProductDirectoryData [type=model_type, input_value='foo', input_type=str]\n    For further information visit https://errors.pydantic.dev/2.11/v/model_type",
     "output_type": "error",
     "traceback": [
      "\u001b[31m---------------------------------------------------------------------------\u001b[39m",
      "\u001b[31mValidationError\u001b[39m                           Traceback (most recent call last)",
      "\u001b[36mCell\u001b[39m\u001b[36m \u001b[39m\u001b[32mIn[17]\u001b[39m\u001b[32m, line 1\u001b[39m\n\u001b[32m----> \u001b[39m\u001b[32m1\u001b[39m \u001b[43mrun_config\u001b[49m\u001b[43m.\u001b[49m\u001b[43mprior_dist_s1_product\u001b[49m = \u001b[33m'\u001b[39m\u001b[33mfoo\u001b[39m\u001b[33m'\u001b[39m\n",
      "\u001b[36mFile \u001b[39m\u001b[32m~/miniforge3/envs/dist-s1-env/lib/python3.13/site-packages/pydantic/main.py:996\u001b[39m, in \u001b[36mBaseModel.__setattr__\u001b[39m\u001b[34m(self, name, value)\u001b[39m\n\u001b[32m    994\u001b[39m \u001b[38;5;66;03m# if None is returned from _setattr_handler, the attribute was set directly\u001b[39;00m\n\u001b[32m    995\u001b[39m \u001b[38;5;28;01melif\u001b[39;00m (setattr_handler := \u001b[38;5;28mself\u001b[39m._setattr_handler(name, value)) \u001b[38;5;129;01mis\u001b[39;00m \u001b[38;5;129;01mnot\u001b[39;00m \u001b[38;5;28;01mNone\u001b[39;00m:\n\u001b[32m--> \u001b[39m\u001b[32m996\u001b[39m     \u001b[43msetattr_handler\u001b[49m\u001b[43m(\u001b[49m\u001b[38;5;28;43mself\u001b[39;49m\u001b[43m,\u001b[49m\u001b[43m \u001b[49m\u001b[43mname\u001b[49m\u001b[43m,\u001b[49m\u001b[43m \u001b[49m\u001b[43mvalue\u001b[49m\u001b[43m)\u001b[49m  \u001b[38;5;66;03m# call here to not memo on possibly unknown fields\u001b[39;00m\n\u001b[32m    997\u001b[39m     \u001b[38;5;28mself\u001b[39m.__pydantic_setattr_handlers__[name] = setattr_handler\n",
      "\u001b[36mFile \u001b[39m\u001b[32m~/miniforge3/envs/dist-s1-env/lib/python3.13/site-packages/pydantic/main.py:114\u001b[39m, in \u001b[36m<lambda>\u001b[39m\u001b[34m(model, name, val)\u001b[39m\n\u001b[32m    108\u001b[39m         \u001b[38;5;28mobject\u001b[39m.\u001b[34m__setattr__\u001b[39m(model, \u001b[33m'\u001b[39m\u001b[33m__pydantic_private__\u001b[39m\u001b[33m'\u001b[39m, {})\n\u001b[32m    109\u001b[39m     model.__pydantic_private__[name] = val  \u001b[38;5;66;03m# pyright: ignore[reportOptionalSubscript]\u001b[39;00m\n\u001b[32m    112\u001b[39m _SIMPLE_SETATTR_HANDLERS: Mapping[\u001b[38;5;28mstr\u001b[39m, Callable[[BaseModel, \u001b[38;5;28mstr\u001b[39m, Any], \u001b[38;5;28;01mNone\u001b[39;00m]] = {\n\u001b[32m    113\u001b[39m     \u001b[33m'\u001b[39m\u001b[33mmodel_field\u001b[39m\u001b[33m'\u001b[39m: _model_field_setattr_handler,\n\u001b[32m--> \u001b[39m\u001b[32m114\u001b[39m     \u001b[33m'\u001b[39m\u001b[33mvalidate_assignment\u001b[39m\u001b[33m'\u001b[39m: \u001b[38;5;28;01mlambda\u001b[39;00m model, name, val: \u001b[43mmodel\u001b[49m\u001b[43m.\u001b[49m\u001b[43m__pydantic_validator__\u001b[49m\u001b[43m.\u001b[49m\u001b[43mvalidate_assignment\u001b[49m\u001b[43m(\u001b[49m\u001b[43mmodel\u001b[49m\u001b[43m,\u001b[49m\u001b[43m \u001b[49m\u001b[43mname\u001b[49m\u001b[43m,\u001b[49m\u001b[43m \u001b[49m\u001b[43mval\u001b[49m\u001b[43m)\u001b[49m,  \u001b[38;5;66;03m# pyright: ignore[reportAssignmentType]\u001b[39;00m\n\u001b[32m    115\u001b[39m     \u001b[33m'\u001b[39m\u001b[33mprivate\u001b[39m\u001b[33m'\u001b[39m: _private_setattr_handler,\n\u001b[32m    116\u001b[39m     \u001b[33m'\u001b[39m\u001b[33mcached_property\u001b[39m\u001b[33m'\u001b[39m: \u001b[38;5;28;01mlambda\u001b[39;00m model, name, val: model.\u001b[34m__dict__\u001b[39m.\u001b[34m__setitem__\u001b[39m(name, val),\n\u001b[32m    117\u001b[39m     \u001b[33m'\u001b[39m\u001b[33mextra_known\u001b[39m\u001b[33m'\u001b[39m: \u001b[38;5;28;01mlambda\u001b[39;00m model, name, val: _object_setattr(model, name, val),\n\u001b[32m    118\u001b[39m }\n\u001b[32m    121\u001b[39m \u001b[38;5;28;01mclass\u001b[39;00m\u001b[38;5;250m \u001b[39m\u001b[34;01mBaseModel\u001b[39;00m(metaclass=_model_construction.ModelMetaclass):\n\u001b[32m    122\u001b[39m \u001b[38;5;250m    \u001b[39m\u001b[33;03m\"\"\"!!! abstract \"Usage Documentation\"\u001b[39;00m\n\u001b[32m    123\u001b[39m \u001b[33;03m        [Models](../concepts/models.md)\u001b[39;00m\n\u001b[32m    124\u001b[39m \n\u001b[32m   (...)\u001b[39m\u001b[32m    151\u001b[39m \u001b[33;03m        __pydantic_private__: Values of private attributes set on the model instance.\u001b[39;00m\n\u001b[32m    152\u001b[39m \u001b[33;03m    \"\"\"\u001b[39;00m\n",
      "\u001b[31mValidationError\u001b[39m: 1 validation error for RunConfigData\nprior_dist_s1_product\n  Input should be a valid dictionary or instance of ProductDirectoryData [type=model_type, input_value='foo', input_type=str]\n    For further information visit https://errors.pydantic.dev/2.11/v/model_type"
     ]
    }
   ],
   "source": [
    "run_config.prior_dist_s1_product = 'foo'"
   ]
  },
  {
   "cell_type": "code",
   "execution_count": 6,
   "id": "55f54f84-fe2e-446b-b8f0-ddb894b10f8e",
   "metadata": {},
   "outputs": [
    {
     "name": "stderr",
     "output_type": "stream",
     "text": [
      "Despeckling and serializing RTC S1 files: 100%|█| 352/352 [0\n"
     ]
    }
   ],
   "source": [
    "if run_config.apply_despeckling:\n",
    "    run_despeckle_workflow(run_config)"
   ]
  },
  {
   "cell_type": "code",
   "execution_count": 7,
   "id": "2ad989d5-b3a5-4e50-93fb-e32812f3d97d",
   "metadata": {},
   "outputs": [
    {
     "name": "stderr",
     "output_type": "stream",
     "text": [
      "Burst disturbance:   0%|             | 0/16 [00:00<?, ?it/s]\n",
      "Chips Traversed: 100%|███| 656/656 [00:01<00:00, 535.24it/s]\u001b[A\n",
      "/Users/cmarshak/miniforge3/envs/dist-s1-env/lib/python3.13/site-packages/torch/nn/functional.py:5561: UserWarning: The operator 'aten::col2im' is not currently supported on the MPS backend and will fall back to run on the CPU. This may have performance implications. (Triggered internally at /Users/runner/miniforge3/conda-bld/libtorch_1746257056484/work/aten/src/ATen/mps/MPSFallback.mm:14.)\n",
      "  return torch._C._nn.col2im(\n",
      "/Users/cmarshak/bekaert-team/dist-s1/src/dist_s1/dist_processing.py:132: RuntimeWarning: All-NaN slice encountered\n",
      "  metric = np.nanmax(z_score_per_channel, axis=0)\n",
      "Burst disturbance:   6%|▎    | 1/16 [00:03<00:47,  3.18s/it]\n",
      "Chips Traversed: 100%|███| 586/586 [00:01<00:00, 497.55it/s]\u001b[A\n",
      "Burst disturbance:  12%|▋    | 2/16 [00:06<00:41,  3.00s/it]\n",
      "Chips Traversed: 100%|███| 659/659 [00:01<00:00, 631.27it/s]\u001b[A\n",
      "Burst disturbance:  19%|▉    | 3/16 [00:09<00:39,  3.04s/it]\n",
      "Chips Traversed: 100%|███| 586/586 [00:00<00:00, 690.65it/s]\u001b[A\n",
      "Burst disturbance:  25%|█▎   | 4/16 [00:11<00:34,  2.86s/it]\n",
      "Chips Traversed: 100%|███| 656/656 [00:01<00:00, 598.99it/s]\u001b[A\n",
      "Burst disturbance:  31%|█▌   | 5/16 [00:14<00:32,  2.97s/it]\n",
      "Chips Traversed: 100%|███| 586/586 [00:01<00:00, 581.11it/s]\u001b[A\n",
      "Burst disturbance:  38%|█▉   | 6/16 [00:17<00:28,  2.89s/it]\n",
      "Chips Traversed: 100%|███| 656/656 [00:00<00:00, 668.81it/s]\u001b[A\n",
      "Burst disturbance:  44%|██▏  | 7/16 [00:20<00:26,  2.94s/it]\n",
      "Chips Traversed: 100%|███| 586/586 [00:00<00:00, 669.62it/s]\u001b[A\n",
      "Burst disturbance:  50%|██▌  | 8/16 [00:23<00:22,  2.84s/it]\n",
      "Chips Traversed: 100%|███| 663/663 [00:01<00:00, 574.66it/s]\u001b[A\n",
      "Burst disturbance:  56%|██▊  | 9/16 [00:26<00:20,  2.93s/it]\n",
      "Chips Traversed: 100%|███| 586/586 [00:00<00:00, 607.54it/s]\u001b[A\n",
      "Burst disturbance:  62%|██▌ | 10/16 [00:29<00:17,  2.85s/it]\n",
      "Chips Traversed: 100%|███| 663/663 [00:00<00:00, 689.03it/s]\u001b[A\n",
      "Burst disturbance:  69%|██▊ | 11/16 [00:32<00:14,  2.90s/it]\n",
      "Chips Traversed: 100%|███| 586/586 [00:00<00:00, 610.63it/s]\u001b[A\n",
      "Burst disturbance:  75%|███ | 12/16 [00:34<00:11,  2.83s/it]\n",
      "Chips Traversed: 100%|███| 663/663 [00:01<00:00, 589.33it/s]\u001b[A\n",
      "Burst disturbance:  81%|███▎| 13/16 [00:37<00:08,  2.94s/it]\n",
      "Chips Traversed: 100%|███| 586/586 [00:00<00:00, 695.08it/s]\u001b[A\n",
      "Burst disturbance:  88%|███▌| 14/16 [00:40<00:05,  2.82s/it]\n",
      "Chips Traversed: 100%|███| 663/663 [00:00<00:00, 703.95it/s]\u001b[A\n",
      "Burst disturbance:  94%|███▊| 15/16 [00:43<00:02,  2.83s/it]\n",
      "Chips Traversed: 100%|███| 586/586 [00:01<00:00, 585.63it/s]\u001b[A\n",
      "Burst disturbance: 100%|████| 16/16 [00:46<00:00,  2.88s/it]\n"
     ]
    }
   ],
   "source": [
    "# Compute disturbance per burst and all possible lookbacks\n",
    "run_burst_disturbance_workflow(run_config)"
   ]
  },
  {
   "cell_type": "code",
   "execution_count": 8,
   "id": "21b9aa7a-1fab-44ea-b760-9dce254c2fc8",
   "metadata": {},
   "outputs": [],
   "source": [
    "# Merge the burst-wise products\n",
    "run_disturbance_merge_workflow(run_config)"
   ]
  },
  {
   "cell_type": "code",
   "execution_count": 9,
   "id": "0a255865-caa4-4958-92b4-2d439d8cadac",
   "metadata": {},
   "outputs": [
    {
     "name": "stdout",
     "output_type": "stream",
     "text": [
      "No confirmation requested, skipping confirmation step\n"
     ]
    },
    {
     "name": "stderr",
     "output_type": "stream",
     "text": [
      "/Users/cmarshak/miniforge3/envs/dist-s1-env/lib/python3.13/site-packages/numpy/_core/_asarray.py:127: RuntimeWarning: invalid value encountered in cast\n",
      "  arr = array(a, dtype=dtype, order=order, copy=None, subok=subok)\n"
     ]
    }
   ],
   "source": [
    "run_dist_s1_packaging_workflow(run_config)"
   ]
  }
 ],
 "metadata": {
  "kernelspec": {
   "display_name": "dist-s1-env",
   "language": "python",
   "name": "dist-s1-env"
  },
  "language_info": {
   "codemirror_mode": {
    "name": "ipython",
    "version": 3
   },
   "file_extension": ".py",
   "mimetype": "text/x-python",
   "name": "python",
   "nbconvert_exporter": "python",
   "pygments_lexer": "ipython3",
   "version": "3.13.3"
  }
 },
 "nbformat": 4,
 "nbformat_minor": 5
}
