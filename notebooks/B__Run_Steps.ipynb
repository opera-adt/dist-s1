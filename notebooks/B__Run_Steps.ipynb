{
 "cells": [
  {
   "cell_type": "code",
   "execution_count": 1,
   "id": "f563951a-d1b7-4e75-99f2-56be204cbc08",
   "metadata": {},
   "outputs": [],
   "source": [
    "%load_ext autoreload\n",
    "%autoreload 2"
   ]
  },
  {
   "cell_type": "markdown",
   "id": "ff402f6b-df30-4f99-8742-1881c7e2e6b9",
   "metadata": {},
   "source": [
    "This is a notebook that illustrates how to run the end-to-end (e2e) workflow. Determining suitable parameters for the workflow are for operational considerations are explained in the ops library [`dist-s1-enumerator`](https://github.com/opera-adt/dist-s1-enumerator) - specifically, see this [notebook](https://github.com/opera-adt/dist-s1-enumerator/blob/dev/notebooks/A__Staging_Inputs_for_One_MGRS_Tile.ipynb)."
   ]
  },
  {
   "cell_type": "code",
   "execution_count": 2,
   "id": "91fb3320-c91c-465c-9ac3-926076e413e6",
   "metadata": {},
   "outputs": [
    {
     "name": "stderr",
     "output_type": "stream",
     "text": [
      "/Users/cmarshak/miniforge3/envs/dist-s1-env/lib/python3.13/site-packages/tqdm/auto.py:21: TqdmWarning: IProgress not found. Please update jupyter and ipywidgets. See https://ipywidgets.readthedocs.io/en/stable/user_install.html\n",
      "  from .autonotebook import tqdm as notebook_tqdm\n"
     ]
    }
   ],
   "source": [
    "from pathlib import Path\n",
    "\n",
    "from dist_s1.workflows import (\n",
    "    run_burst_disturbance_workflow,\n",
    "    run_dist_s1_localization_workflow,\n",
    "    run_dist_s1_workflow,\n",
    "    run_disturbance_merge_workflow,\n",
    "    run_dist_s1_packaging_workflow,\n",
    "    run_despeckle_workflow\n",
    ")"
   ]
  },
  {
   "cell_type": "code",
   "execution_count": 3,
   "id": "7ce1f145-b58c-4982-b256-6a56b552d4cc",
   "metadata": {},
   "outputs": [],
   "source": [
    "## Example 0\n",
    "\n",
    "# mgrs_tile_id = '10SGD'\n",
    "# post_date = '2025-01-02'\n",
    "# track_number = 137\n",
    "# dst_dir = Path('out')\n",
    "# memory_strategy = 'high'\n",
    "\n",
    "\n",
    "## Example 1 - Los Angeles Wildfire\n",
    "mgrs_tile_id = '11SLT'\n",
    "post_date = '2025-01-21'\n",
    "track_number = 71\n",
    "dst_dir = Path('los-angeles')\n",
    "memory_strategy = 'high'\n",
    "confirmation = False\n",
    "interpolation_method='bilinear'"
   ]
  },
  {
   "cell_type": "markdown",
   "id": "88f264fe-f74c-4d3f-b492-27902eaed32e",
   "metadata": {},
   "source": [
    "This takes some time as it not only generates the runconfig but also localizes the necessary data. It will not overwrite files that have been previously downloaded.\n",
    "\n",
    "Few additional notes:\n",
    "\n",
    "1. The runconfig can be serialized to yml and then read from that file.\n",
    "2. The runconfig manages all the paths for the workflows from the initial set of inputs. It's data model is messy and can be confusing. But that's the workhorse of this library."
   ]
  },
  {
   "cell_type": "code",
   "execution_count": 6,
   "id": "d7ee7ad2-b297-41af-bc65-e41cf40dab1e",
   "metadata": {},
   "outputs": [
    {
     "name": "stdout",
     "output_type": "stream",
     "text": [
      "Using multi-window lookback strategy\n"
     ]
    },
    {
     "name": "stderr",
     "output_type": "stream",
     "text": [
      "Downloading RTC-S1 burst data: 100%|█| 352/352 [00:00<00:00,\n"
     ]
    }
   ],
   "source": [
    "run_config = run_dist_s1_localization_workflow(\n",
    "    mgrs_tile_id,\n",
    "    post_date,\n",
    "    track_number,\n",
    "    post_date_buffer_days=1,\n",
    "    dst_dir=dst_dir,\n",
    "    input_data_dir=dst_dir,\n",
    "    interpolation_method='bilinear',\n",
    ")\n"
   ]
  },
  {
   "cell_type": "code",
   "execution_count": 7,
   "id": "55f54f84-fe2e-446b-b8f0-ddb894b10f8e",
   "metadata": {},
   "outputs": [
    {
     "name": "stderr",
     "output_type": "stream",
     "text": [
      "Despeckling and serializing RTC S1 files: 100%|█| 352/352 [0\n"
     ]
    }
   ],
   "source": [
    "if run_config.apply_despeckling:\n",
    "    run_despeckle_workflow(run_config)"
   ]
  },
  {
   "cell_type": "code",
   "execution_count": 8,
   "id": "2ad989d5-b3a5-4e50-93fb-e32812f3d97d",
   "metadata": {},
   "outputs": [
    {
     "name": "stderr",
     "output_type": "stream",
     "text": [
      "Burst disturbance:   0%|             | 0/16 [00:00<?, ?it/s]\n",
      "Chips Traversed: 100%|███| 656/656 [00:01<00:00, 525.82it/s]\u001b[A\n",
      "/Users/cmarshak/miniforge3/envs/dist-s1-env/lib/python3.13/site-packages/torch/nn/functional.py:5561: UserWarning: The operator 'aten::col2im' is not currently supported on the MPS backend and will fall back to run on the CPU. This may have performance implications. (Triggered internally at /Users/runner/miniforge3/conda-bld/libtorch_1746257056484/work/aten/src/ATen/mps/MPSFallback.mm:14.)\n",
      "  return torch._C._nn.col2im(\n",
      "/Users/cmarshak/bekaert-team/dist-s1/src/dist_s1/dist_processing.py:132: RuntimeWarning: All-NaN slice encountered\n",
      "  metric = np.nanmax(z_score_per_channel, axis=0)\n",
      "Burst disturbance:   6%|▎    | 1/16 [00:03<00:47,  3.14s/it]\n",
      "Chips Traversed: 100%|███| 586/586 [00:01<00:00, 565.69it/s]\u001b[A\n",
      "Burst disturbance:  12%|▋    | 2/16 [00:05<00:40,  2.89s/it]\n",
      "Chips Traversed: 100%|███| 659/659 [00:01<00:00, 598.81it/s]\u001b[A\n",
      "Burst disturbance:  19%|▉    | 3/16 [00:09<00:39,  3.02s/it]\n",
      "Chips Traversed: 100%|███| 586/586 [00:00<00:00, 592.21it/s]\u001b[A\n",
      "Burst disturbance:  25%|█▎   | 4/16 [00:11<00:34,  2.88s/it]\n",
      "Chips Traversed: 100%|███| 656/656 [00:01<00:00, 630.71it/s]\u001b[A\n",
      "Burst disturbance:  31%|█▌   | 5/16 [00:14<00:32,  2.96s/it]\n",
      "Chips Traversed: 100%|███| 586/586 [00:00<00:00, 736.86it/s]\u001b[A\n",
      "Burst disturbance:  38%|█▉   | 6/16 [00:17<00:28,  2.80s/it]\n",
      "Chips Traversed: 100%|███| 656/656 [00:01<00:00, 609.53it/s]\u001b[A\n",
      "Burst disturbance:  44%|██▏  | 7/16 [00:20<00:26,  2.95s/it]\n",
      "Chips Traversed: 100%|███| 586/586 [00:00<00:00, 613.89it/s]\u001b[A\n",
      "Burst disturbance:  50%|██▌  | 8/16 [00:23<00:22,  2.86s/it]\n",
      "Chips Traversed: 100%|███| 663/663 [00:00<00:00, 702.40it/s]\u001b[A\n",
      "Burst disturbance:  56%|██▊  | 9/16 [00:26<00:20,  2.91s/it]\n",
      "Chips Traversed: 100%|███| 586/586 [00:00<00:00, 721.13it/s]\u001b[A\n",
      "Burst disturbance:  62%|██▌ | 10/16 [00:28<00:16,  2.79s/it]\n",
      "Chips Traversed: 100%|███| 663/663 [00:01<00:00, 620.47it/s]\u001b[A\n",
      "Burst disturbance:  69%|██▊ | 11/16 [00:31<00:14,  2.92s/it]\n",
      "Chips Traversed: 100%|███| 586/586 [00:00<00:00, 619.33it/s]\u001b[A\n",
      "Burst disturbance:  75%|███ | 12/16 [00:34<00:11,  2.84s/it]\n",
      "Chips Traversed: 100%|███| 663/663 [00:00<00:00, 709.89it/s]\u001b[A\n",
      "Burst disturbance:  81%|███▎| 13/16 [00:37<00:08,  2.92s/it]\n",
      "Chips Traversed: 100%|███| 586/586 [00:00<00:00, 716.41it/s]\u001b[A\n",
      "Burst disturbance:  88%|███▌| 14/16 [00:40<00:05,  2.82s/it]\n",
      "Chips Traversed: 100%|███| 663/663 [00:01<00:00, 493.19it/s]\u001b[A\n",
      "Burst disturbance:  94%|███▊| 15/16 [00:43<00:03,  3.01s/it]\n",
      "Chips Traversed: 100%|███| 586/586 [00:01<00:00, 544.50it/s]\u001b[A\n",
      "Burst disturbance: 100%|████| 16/16 [00:46<00:00,  2.93s/it]\n"
     ]
    }
   ],
   "source": [
    "# Compute disturbance per burst and all possible lookbacks\n",
    "run_burst_disturbance_workflow(run_config)"
   ]
  },
  {
   "cell_type": "code",
   "execution_count": null,
   "id": "21b9aa7a-1fab-44ea-b760-9dce254c2fc8",
   "metadata": {},
   "outputs": [],
   "source": [
    "# Merge the burst-wise products\n",
    "run_disturbance_merge_workflow(run_config)"
   ]
  },
  {
   "cell_type": "code",
   "execution_count": null,
   "id": "0a255865-caa4-4958-92b4-2d439d8cadac",
   "metadata": {},
   "outputs": [],
   "source": [
    "run_dist_s1_packaging_workflow(run_config)"
   ]
  }
 ],
 "metadata": {
  "kernelspec": {
   "display_name": "dist-s1-env",
   "language": "python",
   "name": "dist-s1-env"
  },
  "language_info": {
   "codemirror_mode": {
    "name": "ipython",
    "version": 3
   },
   "file_extension": ".py",
   "mimetype": "text/x-python",
   "name": "python",
   "nbconvert_exporter": "python",
   "pygments_lexer": "ipython3",
   "version": "3.13.3"
  }
 },
 "nbformat": 4,
 "nbformat_minor": 5
}
