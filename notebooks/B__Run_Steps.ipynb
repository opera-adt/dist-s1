{
 "cells": [
  {
   "cell_type": "code",
   "execution_count": 1,
   "id": "f563951a-d1b7-4e75-99f2-56be204cbc08",
   "metadata": {},
   "outputs": [],
   "source": [
    "%load_ext autoreload\n",
    "%autoreload 2"
   ]
  },
  {
   "cell_type": "markdown",
   "id": "ff402f6b-df30-4f99-8742-1881c7e2e6b9",
   "metadata": {},
   "source": [
    "This is a notebook that illustrates how to run the end-to-end (e2e) workflow. Determining suitable parameters for the workflow are for operational considerations are explained in the ops library [`dist-s1-enumerator`](https://github.com/opera-adt/dist-s1-enumerator) - specifically, see this [notebook](https://github.com/opera-adt/dist-s1-enumerator/blob/dev/notebooks/A__Staging_Inputs_for_One_MGRS_Tile.ipynb)."
   ]
  },
  {
   "cell_type": "code",
   "execution_count": 2,
   "id": "91fb3320-c91c-465c-9ac3-926076e413e6",
   "metadata": {},
   "outputs": [
    {
     "name": "stderr",
     "output_type": "stream",
     "text": [
      "/Users/cmarshak/miniforge3/envs/dist-s1-env/lib/python3.13/site-packages/tqdm/auto.py:21: TqdmWarning: IProgress not found. Please update jupyter and ipywidgets. See https://ipywidgets.readthedocs.io/en/stable/user_install.html\n",
      "  from .autonotebook import tqdm as notebook_tqdm\n"
     ]
    }
   ],
   "source": [
    "from pathlib import Path\n",
    "\n",
    "from dist_s1.workflows import (\n",
    "    run_burst_disturbance_workflow,\n",
    "    run_dist_s1_localization_workflow,\n",
    "    run_dist_s1_workflow,\n",
    "    run_disturbance_merge_workflow,\n",
    "    run_dist_s1_packaging_workflow,\n",
    "    run_despeckle_workflow,\n",
    "    run_dist_s1_sas_prep_workflow\n",
    ")"
   ]
  },
  {
   "cell_type": "code",
   "execution_count": 3,
   "id": "7ce1f145-b58c-4982-b256-6a56b552d4cc",
   "metadata": {},
   "outputs": [],
   "source": [
    "## Example 0\n",
    "\n",
    "# mgrs_tile_id = '10SGD'\n",
    "# post_date = '2025-01-02'\n",
    "# track_number = 137\n",
    "# dst_dir = Path('out')\n",
    "# memory_strategy = 'high'\n",
    "\n",
    "\n",
    "## Example 1 - Los Angeles Wildfire\n",
    "mgrs_tile_id = '11SLT'\n",
    "post_date = '2025-01-21'\n",
    "track_number = 71\n",
    "dst_dir = Path('los-angeles')\n",
    "memory_strategy = 'high'\n",
    "interpolation_method='bilinear'\n",
    "n_workers_for_norm_param_estimation=4\n",
    "stride_for_norm_param_estimation=4\n",
    "device='cpu'"
   ]
  },
  {
   "cell_type": "markdown",
   "id": "88f264fe-f74c-4d3f-b492-27902eaed32e",
   "metadata": {},
   "source": [
    "This takes some time as it not only generates the runconfig but also localizes the necessary data. It will not overwrite files that have been previously downloaded.\n",
    "\n",
    "Few additional notes:\n",
    "\n",
    "1. The runconfig can be serialized to yml and then read from that file.\n",
    "2. The runconfig manages all the paths for the workflows from the initial set of inputs. It's data model is messy and can be confusing. But that's the workhorse of this library."
   ]
  },
  {
   "cell_type": "code",
   "execution_count": 4,
   "id": "d7ee7ad2-b297-41af-bc65-e41cf40dab1e",
   "metadata": {},
   "outputs": [
    {
     "name": "stdout",
     "output_type": "stream",
     "text": [
      "Using multi-window lookback strategy\n"
     ]
    },
    {
     "name": "stderr",
     "output_type": "stream",
     "text": [
      "Downloading RTC-S1 burst data: 100%|█████████████████| 352/352 [00:00<00:00, 45442.92it/s]\n"
     ]
    }
   ],
   "source": [
    "run_config = run_dist_s1_sas_prep_workflow(\n",
    "    mgrs_tile_id,\n",
    "    post_date,\n",
    "    track_number,\n",
    "    post_date_buffer_days=1,\n",
    "    dst_dir=dst_dir,\n",
    "    input_data_dir=dst_dir,\n",
    "    interpolation_method=interpolation_method,\n",
    "    n_workers_for_norm_param_estimation=n_workers_for_norm_param_estimation,\n",
    "    device=device,\n",
    "    stride_for_norm_param_estimation=stride_for_norm_param_estimation\n",
    ")\n"
   ]
  },
  {
   "cell_type": "code",
   "execution_count": 30,
   "id": "55f54f84-fe2e-446b-b8f0-ddb894b10f8e",
   "metadata": {},
   "outputs": [],
   "source": [
    "if run_config.apply_despeckling:\n",
    "    run_despeckle_workflow(run_config)"
   ]
  },
  {
   "cell_type": "code",
   "execution_count": 5,
   "id": "2ad989d5-b3a5-4e50-93fb-e32812f3d97d",
   "metadata": {},
   "outputs": [
    {
     "name": "stdout",
     "output_type": "stream",
     "text": [
      "Running burst disturbance in parallel\n"
     ]
    },
    {
     "name": "stderr",
     "output_type": "stream",
     "text": [
      "Chips Traversed: 100%|███████████████████████████████████████████████████████████████████████████████████████████████████████████████████████████| 9337/9337 [03:08<00:00, 49.48it/s]\n",
      "Chips Traversed: 100%|███████████████████████████████████████████████████████████████████████████████████████████████████████████████████████████| 9313/9313 [03:05<00:00, 50.19it/s]\n",
      "Chips Traversed:  88%|███████████████████████████████████████████████████████████████████████████████████████████████████████████▊              | 9239/10460 [03:06<00:27, 44.63it/s]/Users/cmarshak/bekaert-team/dist-s1/src/dist_s1/dist_processing.py:132: RuntimeWarning: All-NaN slice encountered\n",
      "  metric = np.nanmax(z_score_per_channel, axis=0)\n",
      "/Users/cmarshak/bekaert-team/dist-s1/src/dist_s1/dist_processing.py:132: RuntimeWarning: All-NaN slice encountered\n",
      "  metric = np.nanmax(z_score_per_channel, axis=0)\n",
      "Chips Traversed: 100%|█████████████████████████████████████████████████████████████████████████████████████████████████████████████████████████| 10460/10460 [03:31<00:00, 49.47it/s]\n",
      "Chips Traversed: 100%|█████████████████████████████████████████████████████████████████████████████████████████████████████████████████████████| 10499/10499 [03:32<00:00, 49.43it/s]\n",
      "Chips Traversed:  12%|██████████████▊                                                                                                            | 1128/9337 [00:22<02:37, 52.17it/s]/Users/cmarshak/bekaert-team/dist-s1/src/dist_s1/dist_processing.py:132: RuntimeWarning: All-NaN slice encountered\n",
      "  metric = np.nanmax(z_score_per_channel, axis=0)\n",
      "Chips Traversed: 100%|███████████████████████████████████████████████████████████████████████████████████████████████████████████████████████████| 9337/9337 [03:05<00:00, 50.41it/s]\n",
      "Chips Traversed: 100%|█████████████████████████████████████████████████████████████████████████████████████████████████████████████████████████| 10486/10486 [03:27<00:00, 50.51it/s]\n",
      "Chips Traversed: 100%|███████████████████████████████████████████████████████████████████████████████████████████████████████████████████████████| 9337/9337 [03:09<00:00, 49.33it/s]\n",
      "Chips Traversed:   3%|████                                                                                                                        | 304/9337 [00:06<02:59, 50.37it/s]/Users/cmarshak/bekaert-team/dist-s1/src/dist_s1/dist_processing.py:132: RuntimeWarning: All-NaN slice encountered\n",
      "  metric = np.nanmax(z_score_per_channel, axis=0)\n",
      "Chips Traversed: 100%|█████████████████████████████████████████████████████████████████████████████████████████████████████████████████████████| 10486/10486 [03:33<00:00, 49.02it/s]\n",
      "Chips Traversed: 100%|███████████████████████████████████████████████████████████████████████████████████████████████████████████████████████████| 9337/9337 [03:10<00:00, 49.05it/s]\n",
      "Chips Traversed: 100%|█████████████████████████████████████████████████████████████████████████████████████████████████████████████████████████| 10513/10513 [03:35<00:00, 48.76it/s]\n",
      "Chips Traversed: 100%|█████████████████████████████████████████████████████████████████████████████████████████████████████████████████████████| 10513/10513 [03:29<00:00, 50.08it/s]\n",
      "Chips Traversed: 100%|███████████████████████████████████████████████████████████████████████████████████████████████████████████████████████████| 9361/9361 [03:15<00:00, 47.88it/s]\n",
      "Chips Traversed: 100%|███████████████████████████████████████████████████████████████████████████████████████████████████████████████████████████| 9361/9361 [03:18<00:00, 47.12it/s]\n",
      "Chips Traversed: 100%|█████████████████████████████████████████████████████████████████████████████████████████████████████████████████████████| 10513/10513 [03:33<00:00, 49.23it/s]\n",
      "Chips Traversed: 100%|███████████████████████████████████████████████████████████████████████████████████████████████████████████████████████████| 9361/9361 [03:06<00:00, 50.15it/s]\n",
      "Chips Traversed: 100%|█████████████████████████████████████████████████████████████████████████████████████████████████████████████████████████| 10515/10515 [03:24<00:00, 51.34it/s]\n",
      "Burst disturbance: 100%|██████████████████████████████████| 16/16 [13:59<00:00, 52.48s/it]\n"
     ]
    }
   ],
   "source": [
    "# Compute disturbance per burst and all possible lookbacks\n",
    "run_burst_disturbance_workflow(run_config)"
   ]
  },
  {
   "cell_type": "code",
   "execution_count": 6,
   "id": "21b9aa7a-1fab-44ea-b760-9dce254c2fc8",
   "metadata": {},
   "outputs": [],
   "source": [
    "# Merge the burst-wise products\n",
    "run_disturbance_merge_workflow(run_config)"
   ]
  },
  {
   "cell_type": "code",
   "execution_count": 7,
   "id": "0a255865-caa4-4958-92b4-2d439d8cadac",
   "metadata": {},
   "outputs": [
    {
     "name": "stdout",
     "output_type": "stream",
     "text": [
      "No confirmation requested, skipping confirmation step\n"
     ]
    },
    {
     "name": "stderr",
     "output_type": "stream",
     "text": [
      "/Users/cmarshak/miniforge3/envs/dist-s1-env/lib/python3.13/site-packages/numpy/_core/_asarray.py:127: RuntimeWarning: invalid value encountered in cast\n",
      "  arr = array(a, dtype=dtype, order=order, copy=None, subok=subok)\n"
     ]
    }
   ],
   "source": [
    "run_dist_s1_packaging_workflow(run_config)"
   ]
  }
 ],
 "metadata": {
  "kernelspec": {
   "display_name": "dist-s1-env",
   "language": "python",
   "name": "dist-s1-env"
  },
  "language_info": {
   "codemirror_mode": {
    "name": "ipython",
    "version": 3
   },
   "file_extension": ".py",
   "mimetype": "text/x-python",
   "name": "python",
   "nbconvert_exporter": "python",
   "pygments_lexer": "ipython3",
   "version": "3.13.3"
  }
 },
 "nbformat": 4,
 "nbformat_minor": 5
}
